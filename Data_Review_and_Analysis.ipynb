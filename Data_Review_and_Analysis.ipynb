{
 "cells": [
  {
   "cell_type": "code",
   "execution_count": 2,
   "id": "e11668ce",
   "metadata": {},
   "outputs": [],
   "source": [
    "import pandas as pd\n",
    "import matplotlib.pyplot as plt\n",
    "import seaborn as sns\n",
    "import numpy as np"
   ]
  },
  {
   "cell_type": "code",
   "execution_count": 2,
   "id": "b7c7a490",
   "metadata": {},
   "outputs": [],
   "source": [
    "reviews = pd.read_csv('Books_rating.csv')"
   ]
  },
  {
   "cell_type": "code",
   "execution_count": 4,
   "id": "8e598e24",
   "metadata": {},
   "outputs": [
    {
     "name": "stdout",
     "output_type": "stream",
     "text": [
      "<class 'pandas.core.frame.DataFrame'>\n",
      "RangeIndex: 3000000 entries, 0 to 2999999\n",
      "Data columns (total 10 columns):\n",
      " #   Column              Dtype  \n",
      "---  ------              -----  \n",
      " 0   Id                  object \n",
      " 1   Title               object \n",
      " 2   Price               float64\n",
      " 3   User_id             object \n",
      " 4   profileName         object \n",
      " 5   review/helpfulness  object \n",
      " 6   review/score        float64\n",
      " 7   review/time         int64  \n",
      " 8   review/summary      object \n",
      " 9   review/text         object \n",
      "dtypes: float64(2), int64(1), object(7)\n",
      "memory usage: 228.9+ MB\n"
     ]
    }
   ],
   "source": [
    "reviews.info()"
   ]
  },
  {
   "cell_type": "markdown",
   "id": "562d4e49",
   "metadata": {},
   "source": [
    "## Step 1: Data Cleaning - remove important NaN rows and check for duplicates"
   ]
  },
  {
   "cell_type": "code",
   "execution_count": 5,
   "id": "5527b9a8",
   "metadata": {},
   "outputs": [
    {
     "data": {
      "text/plain": [
       "Id                          0\n",
       "Title                     208\n",
       "Price                 2518829\n",
       "User_id                561787\n",
       "profileName            561886\n",
       "review/helpfulness          0\n",
       "review/score                0\n",
       "review/time                 0\n",
       "review/summary             38\n",
       "review/text                 8\n",
       "dtype: int64"
      ]
     },
     "execution_count": 5,
     "metadata": {},
     "output_type": "execute_result"
    }
   ],
   "source": [
    "# The rows with missing values in the reviews field and the title field can be dropped because we'll need these \n",
    "# for the analysis.\n",
    "reviews.isna().sum()"
   ]
  },
  {
   "cell_type": "code",
   "execution_count": 6,
   "id": "c2a70f52",
   "metadata": {},
   "outputs": [],
   "source": [
    "# Drop those NaN columns\n",
    "reviews = reviews.dropna(subset=['Title', 'review/text'])"
   ]
  },
  {
   "cell_type": "code",
   "execution_count": 7,
   "id": "c7081790",
   "metadata": {},
   "outputs": [
    {
     "data": {
      "text/plain": [
       "221989"
      ]
     },
     "execution_count": 7,
     "metadata": {},
     "output_type": "execute_result"
    }
   ],
   "source": [
    "reviews.Id.nunique()"
   ]
  },
  {
   "cell_type": "code",
   "execution_count": 8,
   "id": "6595ee20",
   "metadata": {},
   "outputs": [
    {
     "data": {
      "text/plain": [
       "8774"
      ]
     },
     "execution_count": 8,
     "metadata": {},
     "output_type": "execute_result"
    }
   ],
   "source": [
    "# Check for Duplicates\n",
    "reviews.duplicated(keep=\"first\").sum()"
   ]
  },
  {
   "cell_type": "code",
   "execution_count": 9,
   "id": "8f31e471",
   "metadata": {},
   "outputs": [],
   "source": [
    "# Looks like there are some duplicates so we can drop those\n",
    "reviews.drop_duplicates(keep=\"first\",inplace=True)"
   ]
  },
  {
   "cell_type": "code",
   "execution_count": 10,
   "id": "a708fe46",
   "metadata": {},
   "outputs": [
    {
     "data": {
      "text/plain": [
       "0"
      ]
     },
     "execution_count": 10,
     "metadata": {},
     "output_type": "execute_result"
    }
   ],
   "source": [
    "reviews.duplicated(keep=\"first\").sum()"
   ]
  },
  {
   "cell_type": "code",
   "execution_count": 11,
   "id": "efe85123",
   "metadata": {},
   "outputs": [],
   "source": [
    "# reset our index\n",
    "reviews.reset_index(inplace=True)"
   ]
  },
  {
   "cell_type": "markdown",
   "id": "c0fd0479",
   "metadata": {},
   "source": [
    "## Step 2:  Define my classes and target"
   ]
  },
  {
   "cell_type": "code",
   "execution_count": 12,
   "id": "899d5e3e",
   "metadata": {},
   "outputs": [
    {
     "data": {
      "text/plain": [
       "5.0    1801247\n",
       "4.0     583653\n",
       "3.0     253771\n",
       "1.0     201468\n",
       "2.0     150871\n",
       "Name: review/score, dtype: int64"
      ]
     },
     "execution_count": 12,
     "metadata": {},
     "output_type": "execute_result"
    }
   ],
   "source": [
    "reviews['review/score'].value_counts()"
   ]
  },
  {
   "cell_type": "code",
   "execution_count": 13,
   "id": "1a5e43c7",
   "metadata": {},
   "outputs": [
    {
     "data": {
      "text/plain": [
       "<AxesSubplot:>"
      ]
     },
     "execution_count": 13,
     "metadata": {},
     "output_type": "execute_result"
    },
    {
     "data": {
      "image/png": "[encoded data removed]",
      "text/plain": [
       "<Figure size 640x480 with 1 Axes>"
      ]
     },
     "metadata": {},
     "output_type": "display_data"
    }
   ],
   "source": [
    "# First I'm going to check the distribution of scores in my data \n",
    "\n",
    "reviews['review/score'].value_counts().plot(kind='bar')"
   ]
  },
  {
   "cell_type": "code",
   "execution_count": 14,
   "id": "2ea41507",
   "metadata": {},
   "outputs": [],
   "source": [
    "# The reviews are heavily weighted in 5 - I'll need to consider this when taking my sample\n",
    "# I'm going to drop all the 3's and focus on classifying my 1's and 2's to negative (0) and my \n",
    "# 4's and 5's to positive (1)"
   ]
  },
  {
   "cell_type": "code",
   "execution_count": 15,
   "id": "d2670832",
   "metadata": {
    "run_control": {
     "marked": false
    }
   },
   "outputs": [],
   "source": [
    "# Drops the 3's\n",
    "reviews.drop(reviews[reviews['review/score'] == 3.0].index, inplace = True)"
   ]
  },
  {
   "cell_type": "code",
   "execution_count": 16,
   "id": "b6414d66",
   "metadata": {},
   "outputs": [],
   "source": [
    "# Change the other values to my classifications\n",
    "\n",
    "reviews['review/score'].replace([1.0, 2.0, 4.0, 5.0],[0, 0, 1, 1], inplace=True)"
   ]
  },
  {
   "cell_type": "markdown",
   "id": "443bba69",
   "metadata": {},
   "source": [
    "## Step 3:  With such a big dataset, take a smaller sample to train the model on"
   ]
  },
  {
   "cell_type": "code",
   "execution_count": 17,
   "id": "d1af18f1",
   "metadata": {},
   "outputs": [
    {
     "name": "stderr",
     "output_type": "stream",
     "text": [
      "C:\\Users\\liisa\\AppData\\Local\\Temp\\ipykernel_6988\\3658997412.py:7: FutureWarning: The frame.append method is deprecated and will be removed from pandas in a future version. Use pandas.concat instead.\n",
      "  sample_df = sample_df.append(X)\n",
      "C:\\Users\\liisa\\AppData\\Local\\Temp\\ipykernel_6988\\3658997412.py:7: FutureWarning: The frame.append method is deprecated and will be removed from pandas in a future version. Use pandas.concat instead.\n",
      "  sample_df = sample_df.append(X)\n"
     ]
    }
   ],
   "source": [
    "# I'm going to choose a sample of 100,000 rows but I want to have evenly distributed 1's and 0's so I can \n",
    "# train my model better\n",
    "sample_size = 50000\n",
    "sample_df = pd.DataFrame()\n",
    "for i in reviews['review/score'].unique():\n",
    "  X = reviews[reviews['review/score'] == i].sample(sample_size)\n",
    "  sample_df = sample_df.append(X)"
   ]
  },
  {
   "cell_type": "code",
   "execution_count": 18,
   "id": "9202d104",
   "metadata": {},
   "outputs": [
    {
     "data": {
      "text/plain": [
       "1.0    50000\n",
       "0.0    50000\n",
       "Name: review/score, dtype: int64"
      ]
     },
     "execution_count": 18,
     "metadata": {},
     "output_type": "execute_result"
    }
   ],
   "source": [
    "sample_df['review/score'].value_counts()"
   ]
  },
  {
   "cell_type": "code",
   "execution_count": 19,
   "id": "bbc06f6a",
   "metadata": {},
   "outputs": [],
   "source": [
    "reviews = reviews.drop(sample_df.index)"
   ]
  },
  {
   "cell_type": "code",
   "execution_count": 20,
   "id": "36dbd392",
   "metadata": {},
   "outputs": [
    {
     "name": "stdout",
     "output_type": "stream",
     "text": [
      "<class 'pandas.core.frame.DataFrame'>\n",
      "Int64Index: 100000 entries, 955449 to 1443400\n",
      "Data columns (total 11 columns):\n",
      " #   Column              Non-Null Count   Dtype  \n",
      "---  ------              --------------   -----  \n",
      " 0   index               100000 non-null  int64  \n",
      " 1   Id                  100000 non-null  object \n",
      " 2   Title               100000 non-null  object \n",
      " 3   Price               16257 non-null   float64\n",
      " 4   User_id             79297 non-null   object \n",
      " 5   profileName         79295 non-null   object \n",
      " 6   review/helpfulness  100000 non-null  object \n",
      " 7   review/score        100000 non-null  float64\n",
      " 8   review/time         100000 non-null  int64  \n",
      " 9   review/summary      99997 non-null   object \n",
      " 10  review/text         100000 non-null  object \n",
      "dtypes: float64(2), int64(2), object(7)\n",
      "memory usage: 9.2+ MB\n",
      "<class 'pandas.core.frame.DataFrame'>\n",
      "Int64Index: 2637239 entries, 0 to 2991008\n",
      "Data columns (total 11 columns):\n",
      " #   Column              Dtype  \n",
      "---  ------              -----  \n",
      " 0   index               int64  \n",
      " 1   Id                  object \n",
      " 2   Title               object \n",
      " 3   Price               float64\n",
      " 4   User_id             object \n",
      " 5   profileName         object \n",
      " 6   review/helpfulness  object \n",
      " 7   review/score        float64\n",
      " 8   review/time         int64  \n",
      " 9   review/summary      object \n",
      " 10  review/text         object \n",
      "dtypes: float64(2), int64(2), object(7)\n",
      "memory usage: 241.4+ MB\n"
     ]
    }
   ],
   "source": [
    "#check if it worked and then resave our files\n",
    "sample_df.info()\n",
    "reviews.info()\n",
    "\n",
    "\n",
    "sample_df.to_csv(\"sample.csv\", index=False)\n",
    "reviews.to_csv(\"reviews.csv\", index=False)"
   ]
  },
  {
   "cell_type": "markdown",
   "id": "47179099",
   "metadata": {},
   "source": [
    "## Step 4: Start preprocessing my sample dataset"
   ]
  },
  {
   "cell_type": "code",
   "execution_count": 41,
   "id": "882ee7ac",
   "metadata": {},
   "outputs": [],
   "source": [
    "# Import the libraries I'll need for the preprocessing and my model \n",
    "\n",
    "import nltk\n",
    "from nltk.corpus import stopwords\n",
    "from nltk.tokenize import word_tokenize\n",
    "from nltk.stem import WordNetLemmatizer\n",
    "from nltk.corpus import wordnet as wn\n"
   ]
  },
  {
   "cell_type": "code",
   "execution_count": 22,
   "id": "5971baa8",
   "metadata": {},
   "outputs": [
    {
     "name": "stderr",
     "output_type": "stream",
     "text": [
      "[nltk_data] Downloading package stopwords to\n",
      "[nltk_data]     C:\\Users\\liisa\\AppData\\Roaming\\nltk_data...\n",
      "[nltk_data]   Package stopwords is already up-to-date!\n"
     ]
    },
    {
     "data": {
      "text/plain": [
       "True"
      ]
     },
     "execution_count": 22,
     "metadata": {},
     "output_type": "execute_result"
    }
   ],
   "source": [
    "nltk.download('stopwords')"
   ]
  },
  {
   "cell_type": "code",
   "execution_count": 23,
   "id": "eed844d3",
   "metadata": {},
   "outputs": [
    {
     "name": "stdout",
     "output_type": "stream",
     "text": [
      "['i', 'me', 'my', 'myself', 'we', 'our', 'ours', 'ourselves', 'you', \"you're\", \"you've\", \"you'll\", \"you'd\", 'your', 'yours', 'yourself', 'yourselves', 'he', 'him', 'his', 'himself', 'she', \"she's\", 'her', 'hers', 'herself', 'it', \"it's\", 'its', 'itself', 'they', 'them', 'their', 'theirs', 'themselves', 'what', 'which', 'who', 'whom', 'this', 'that', \"that'll\", 'these', 'those', 'am', 'is', 'are', 'was', 'were', 'be', 'been', 'being', 'have', 'has', 'had', 'having', 'do', 'does', 'did', 'doing', 'a', 'an', 'the', 'and', 'but', 'if', 'or', 'because', 'as', 'until', 'while', 'of', 'at', 'by', 'for', 'with', 'about', 'against', 'between', 'into', 'through', 'during', 'before', 'after', 'above', 'below', 'to', 'from', 'up', 'down', 'in', 'out', 'on', 'off', 'over', 'under', 'again', 'further', 'then', 'once', 'here', 'there', 'when', 'where', 'why', 'how', 'all', 'any', 'both', 'each', 'few', 'more', 'most', 'other', 'some', 'such', 'no', 'nor', 'not', 'only', 'own', 'same', 'so', 'than', 'too', 'very', 's', 't', 'can', 'will', 'just', 'don', \"don't\", 'should', \"should've\", 'now', 'd', 'll', 'm', 'o', 're', 've', 'y', 'ain', 'aren', \"aren't\", 'couldn', \"couldn't\", 'didn', \"didn't\", 'doesn', \"doesn't\", 'hadn', \"hadn't\", 'hasn', \"hasn't\", 'haven', \"haven't\", 'isn', \"isn't\", 'ma', 'mightn', \"mightn't\", 'mustn', \"mustn't\", 'needn', \"needn't\", 'shan', \"shan't\", 'shouldn', \"shouldn't\", 'wasn', \"wasn't\", 'weren', \"weren't\", 'won', \"won't\", 'wouldn', \"wouldn't\"]\n"
     ]
    }
   ],
   "source": [
    "print(stopwords.words('english'))"
   ]
  },
  {
   "cell_type": "code",
   "execution_count": 24,
   "id": "3f7a69a2",
   "metadata": {},
   "outputs": [
    {
     "name": "stderr",
     "output_type": "stream",
     "text": [
      "[nltk_data] Downloading package punkt to\n",
      "[nltk_data]     C:\\Users\\liisa\\AppData\\Roaming\\nltk_data...\n",
      "[nltk_data]   Package punkt is already up-to-date!\n"
     ]
    },
    {
     "data": {
      "text/plain": [
       "True"
      ]
     },
     "execution_count": 24,
     "metadata": {},
     "output_type": "execute_result"
    }
   ],
   "source": [
    "nltk.download('punkt')"
   ]
  },
  {
   "cell_type": "code",
   "execution_count": 25,
   "id": "c25aeb36",
   "metadata": {},
   "outputs": [],
   "source": [
    "# Start the pre-processing that I'll do outside of my model \n",
    "\n",
    "# Use NLTK library to tokenize (split sentences into words) and change to lowercase\n",
    "\n",
    "sample_df['tokenized_text'] = sample_df['review/text'].apply(word_tokenize) "
   ]
  },
  {
   "cell_type": "code",
   "execution_count": 27,
   "id": "cc8e696b",
   "metadata": {},
   "outputs": [],
   "source": [
    "sample_df['tokenized_text'] = sample_df['review/text'].apply(str.lower)"
   ]
  },
  {
   "cell_type": "code",
   "execution_count": 34,
   "id": "5b7ba240",
   "metadata": {},
   "outputs": [],
   "source": [
    "sample_df['tokenized_text'] = sample_df['tokenized_text'].apply(word_tokenize) "
   ]
  },
  {
   "cell_type": "code",
   "execution_count": 35,
   "id": "02bac64b",
   "metadata": {},
   "outputs": [
    {
     "data": {
      "text/html": [
       "<div>\n",
       "<style scoped>\n",
       "    .dataframe tbody tr th:only-of-type {\n",
       "        vertical-align: middle;\n",
       "    }\n",
       "\n",
       "    .dataframe tbody tr th {\n",
       "        vertical-align: top;\n",
       "    }\n",
       "\n",
       "    .dataframe thead th {\n",
       "        text-align: right;\n",
       "    }\n",
       "</style>\n",
       "<table border=\"1\" class=\"dataframe\">\n",
       "  <thead>\n",
       "    <tr style=\"text-align: right;\">\n",
       "      <th></th>\n",
       "      <th>index</th>\n",
       "      <th>Id</th>\n",
       "      <th>Title</th>\n",
       "      <th>Price</th>\n",
       "      <th>User_id</th>\n",
       "      <th>profileName</th>\n",
       "      <th>review/helpfulness</th>\n",
       "      <th>review/score</th>\n",
       "      <th>review/time</th>\n",
       "      <th>review/summary</th>\n",
       "      <th>review/text</th>\n",
       "      <th>tokenized_text</th>\n",
       "    </tr>\n",
       "  </thead>\n",
       "  <tbody>\n",
       "    <tr>\n",
       "      <th>955449</th>\n",
       "      <td>958551</td>\n",
       "      <td>1576752070</td>\n",
       "      <td>Sprout!: Everything I Need to Know about Sales...</td>\n",
       "      <td>15.56</td>\n",
       "      <td>A2L1SGWA2CPG0P</td>\n",
       "      <td>Rosalind</td>\n",
       "      <td>0/0</td>\n",
       "      <td>1.0</td>\n",
       "      <td>1078099200</td>\n",
       "      <td>Sprout your business!</td>\n",
       "      <td>I read Sprout! in a couple of hours. Once I st...</td>\n",
       "      <td>[i, read, sprout, !, in, a, couple, of, hours,...</td>\n",
       "    </tr>\n",
       "    <tr>\n",
       "      <th>91635</th>\n",
       "      <td>91865</td>\n",
       "      <td>0673995275</td>\n",
       "      <td>The American People: Creating a Nation and a S...</td>\n",
       "      <td>NaN</td>\n",
       "      <td>NaN</td>\n",
       "      <td>NaN</td>\n",
       "      <td>14/20</td>\n",
       "      <td>1.0</td>\n",
       "      <td>1065484800</td>\n",
       "      <td>Finally, a balanced history text</td>\n",
       "      <td>Some of the reviews posted here are just bizar...</td>\n",
       "      <td>[some, of, the, reviews, posted, here, are, ju...</td>\n",
       "    </tr>\n",
       "    <tr>\n",
       "      <th>2435415</th>\n",
       "      <td>2442991</td>\n",
       "      <td>B000OV5U1Y</td>\n",
       "      <td>Lindbergh: A Biography</td>\n",
       "      <td>NaN</td>\n",
       "      <td>A1UNMDPC9U3F4B</td>\n",
       "      <td>denny j Huber</td>\n",
       "      <td>0/13</td>\n",
       "      <td>1.0</td>\n",
       "      <td>981590400</td>\n",
       "      <td>Indeed,God is my Co-Pilot....</td>\n",
       "      <td>This bio has merit,to be supplemented by many ...</td>\n",
       "      <td>[this, bio, has, merit, ,, to, be, supplemente...</td>\n",
       "    </tr>\n",
       "    <tr>\n",
       "      <th>1173797</th>\n",
       "      <td>1177604</td>\n",
       "      <td>1401302548</td>\n",
       "      <td>Myths, Lies, and Downright Stupidity: Get Out ...</td>\n",
       "      <td>11.91</td>\n",
       "      <td>AL4ELPBWZA1BO</td>\n",
       "      <td>Jack E. Vannoord</td>\n",
       "      <td>21/47</td>\n",
       "      <td>1.0</td>\n",
       "      <td>1147910400</td>\n",
       "      <td>The Truth, The Whole Truth and Nothing but the...</td>\n",
       "      <td>Yes, he's glib. He writes in the same sound-bi...</td>\n",
       "      <td>[yes, ,, he, 's, glib, ., he, writes, in, the,...</td>\n",
       "    </tr>\n",
       "    <tr>\n",
       "      <th>2259366</th>\n",
       "      <td>2266402</td>\n",
       "      <td>0006547001</td>\n",
       "      <td>Empire of the Sun</td>\n",
       "      <td>NaN</td>\n",
       "      <td>A2ZTQ269EBVWPC</td>\n",
       "      <td>geoffrey.vasil@flf.vu.lt</td>\n",
       "      <td>1/1</td>\n",
       "      <td>1.0</td>\n",
       "      <td>883440000</td>\n",
       "      <td>Why does some wierd guy in Shepperton speak Ja...</td>\n",
       "      <td>Because he grew up as a war orphan in a Japane...</td>\n",
       "      <td>[because, he, grew, up, as, a, war, orphan, in...</td>\n",
       "    </tr>\n",
       "  </tbody>\n",
       "</table>\n",
       "</div>"
      ],
      "text/plain": [
       "           index          Id  \\\n",
       "955449    958551  1576752070   \n",
       "91635      91865  0673995275   \n",
       "2435415  2442991  B000OV5U1Y   \n",
       "1173797  1177604  1401302548   \n",
       "2259366  2266402  0006547001   \n",
       "\n",
       "                                                     Title  Price  \\\n",
       "955449   Sprout!: Everything I Need to Know about Sales...  15.56   \n",
       "91635    The American People: Creating a Nation and a S...    NaN   \n",
       "2435415                             Lindbergh: A Biography    NaN   \n",
       "1173797  Myths, Lies, and Downright Stupidity: Get Out ...  11.91   \n",
       "2259366                                  Empire of the Sun    NaN   \n",
       "\n",
       "                User_id               profileName review/helpfulness  \\\n",
       "955449   A2L1SGWA2CPG0P                  Rosalind                0/0   \n",
       "91635               NaN                       NaN              14/20   \n",
       "2435415  A1UNMDPC9U3F4B             denny j Huber               0/13   \n",
       "1173797   AL4ELPBWZA1BO          Jack E. Vannoord              21/47   \n",
       "2259366  A2ZTQ269EBVWPC  geoffrey.vasil@flf.vu.lt                1/1   \n",
       "\n",
       "         review/score  review/time  \\\n",
       "955449            1.0   1078099200   \n",
       "91635             1.0   1065484800   \n",
       "2435415           1.0    981590400   \n",
       "1173797           1.0   1147910400   \n",
       "2259366           1.0    883440000   \n",
       "\n",
       "                                            review/summary  \\\n",
       "955449                               Sprout your business!   \n",
       "91635                     Finally, a balanced history text   \n",
       "2435415                      Indeed,God is my Co-Pilot....   \n",
       "1173797  The Truth, The Whole Truth and Nothing but the...   \n",
       "2259366  Why does some wierd guy in Shepperton speak Ja...   \n",
       "\n",
       "                                               review/text  \\\n",
       "955449   I read Sprout! in a couple of hours. Once I st...   \n",
       "91635    Some of the reviews posted here are just bizar...   \n",
       "2435415  This bio has merit,to be supplemented by many ...   \n",
       "1173797  Yes, he's glib. He writes in the same sound-bi...   \n",
       "2259366  Because he grew up as a war orphan in a Japane...   \n",
       "\n",
       "                                            tokenized_text  \n",
       "955449   [i, read, sprout, !, in, a, couple, of, hours,...  \n",
       "91635    [some, of, the, reviews, posted, here, are, ju...  \n",
       "2435415  [this, bio, has, merit, ,, to, be, supplemente...  \n",
       "1173797  [yes, ,, he, 's, glib, ., he, writes, in, the,...  \n",
       "2259366  [because, he, grew, up, as, a, war, orphan, in...  "
      ]
     },
     "execution_count": 35,
     "metadata": {},
     "output_type": "execute_result"
    }
   ],
   "source": [
    "sample_df.head()"
   ]
  },
  {
   "cell_type": "code",
   "execution_count": 37,
   "id": "8d24bdaf",
   "metadata": {},
   "outputs": [],
   "source": [
    "# I'll work on the stop words now.  \n",
    "# First I'll add \"book\" to the stop words list because it won't add much to the analysis\n",
    "english_stopwords = stopwords.words('english')\n",
    "english_stopwords.extend(['book', 'books'])\n",
    "#Then I'll remove 'but' and 'not' from the list because these might be helpful\n",
    "english_stopwords.remove('not')\n",
    "english_stopwords.remove('but')\n"
   ]
  },
  {
   "cell_type": "code",
   "execution_count": 39,
   "id": "f02d974e",
   "metadata": {},
   "outputs": [],
   "source": [
    "sample_df['tokenized_text'] = sample_df['tokenized_text'].apply(lambda x: [item for item in x if item not in english_stopwords])"
   ]
  },
  {
   "cell_type": "code",
   "execution_count": 40,
   "id": "edce92ed",
   "metadata": {},
   "outputs": [
    {
     "data": {
      "text/html": [
       "<div>\n",
       "<style scoped>\n",
       "    .dataframe tbody tr th:only-of-type {\n",
       "        vertical-align: middle;\n",
       "    }\n",
       "\n",
       "    .dataframe tbody tr th {\n",
       "        vertical-align: top;\n",
       "    }\n",
       "\n",
       "    .dataframe thead th {\n",
       "        text-align: right;\n",
       "    }\n",
       "</style>\n",
       "<table border=\"1\" class=\"dataframe\">\n",
       "  <thead>\n",
       "    <tr style=\"text-align: right;\">\n",
       "      <th></th>\n",
       "      <th>index</th>\n",
       "      <th>Id</th>\n",
       "      <th>Title</th>\n",
       "      <th>Price</th>\n",
       "      <th>User_id</th>\n",
       "      <th>profileName</th>\n",
       "      <th>review/helpfulness</th>\n",
       "      <th>review/score</th>\n",
       "      <th>review/time</th>\n",
       "      <th>review/summary</th>\n",
       "      <th>review/text</th>\n",
       "      <th>tokenized_text</th>\n",
       "    </tr>\n",
       "  </thead>\n",
       "  <tbody>\n",
       "    <tr>\n",
       "      <th>955449</th>\n",
       "      <td>958551</td>\n",
       "      <td>1576752070</td>\n",
       "      <td>Sprout!: Everything I Need to Know about Sales...</td>\n",
       "      <td>15.56</td>\n",
       "      <td>A2L1SGWA2CPG0P</td>\n",
       "      <td>Rosalind</td>\n",
       "      <td>0/0</td>\n",
       "      <td>1.0</td>\n",
       "      <td>1078099200</td>\n",
       "      <td>Sprout your business!</td>\n",
       "      <td>I read Sprout! in a couple of hours. Once I st...</td>\n",
       "      <td>[read, sprout, !, couple, hours, ., started, c...</td>\n",
       "    </tr>\n",
       "    <tr>\n",
       "      <th>91635</th>\n",
       "      <td>91865</td>\n",
       "      <td>0673995275</td>\n",
       "      <td>The American People: Creating a Nation and a S...</td>\n",
       "      <td>NaN</td>\n",
       "      <td>NaN</td>\n",
       "      <td>NaN</td>\n",
       "      <td>14/20</td>\n",
       "      <td>1.0</td>\n",
       "      <td>1065484800</td>\n",
       "      <td>Finally, a balanced history text</td>\n",
       "      <td>Some of the reviews posted here are just bizar...</td>\n",
       "      <td>[reviews, posted, bizarre, -, read, ?, yes, ,,...</td>\n",
       "    </tr>\n",
       "    <tr>\n",
       "      <th>2435415</th>\n",
       "      <td>2442991</td>\n",
       "      <td>B000OV5U1Y</td>\n",
       "      <td>Lindbergh: A Biography</td>\n",
       "      <td>NaN</td>\n",
       "      <td>A1UNMDPC9U3F4B</td>\n",
       "      <td>denny j Huber</td>\n",
       "      <td>0/13</td>\n",
       "      <td>1.0</td>\n",
       "      <td>981590400</td>\n",
       "      <td>Indeed,God is my Co-Pilot....</td>\n",
       "      <td>This bio has merit,to be supplemented by many ...</td>\n",
       "      <td>[bio, merit, ,, supplemented, many, auto-biogr...</td>\n",
       "    </tr>\n",
       "    <tr>\n",
       "      <th>1173797</th>\n",
       "      <td>1177604</td>\n",
       "      <td>1401302548</td>\n",
       "      <td>Myths, Lies, and Downright Stupidity: Get Out ...</td>\n",
       "      <td>11.91</td>\n",
       "      <td>AL4ELPBWZA1BO</td>\n",
       "      <td>Jack E. Vannoord</td>\n",
       "      <td>21/47</td>\n",
       "      <td>1.0</td>\n",
       "      <td>1147910400</td>\n",
       "      <td>The Truth, The Whole Truth and Nothing but the...</td>\n",
       "      <td>Yes, he's glib. He writes in the same sound-bi...</td>\n",
       "      <td>[yes, ,, 's, glib, ., writes, sound-bite, styl...</td>\n",
       "    </tr>\n",
       "    <tr>\n",
       "      <th>2259366</th>\n",
       "      <td>2266402</td>\n",
       "      <td>0006547001</td>\n",
       "      <td>Empire of the Sun</td>\n",
       "      <td>NaN</td>\n",
       "      <td>A2ZTQ269EBVWPC</td>\n",
       "      <td>geoffrey.vasil@flf.vu.lt</td>\n",
       "      <td>1/1</td>\n",
       "      <td>1.0</td>\n",
       "      <td>883440000</td>\n",
       "      <td>Why does some wierd guy in Shepperton speak Ja...</td>\n",
       "      <td>Because he grew up as a war orphan in a Japane...</td>\n",
       "      <td>[grew, war, orphan, japanese, internment, camp...</td>\n",
       "    </tr>\n",
       "  </tbody>\n",
       "</table>\n",
       "</div>"
      ],
      "text/plain": [
       "           index          Id  \\\n",
       "955449    958551  1576752070   \n",
       "91635      91865  0673995275   \n",
       "2435415  2442991  B000OV5U1Y   \n",
       "1173797  1177604  1401302548   \n",
       "2259366  2266402  0006547001   \n",
       "\n",
       "                                                     Title  Price  \\\n",
       "955449   Sprout!: Everything I Need to Know about Sales...  15.56   \n",
       "91635    The American People: Creating a Nation and a S...    NaN   \n",
       "2435415                             Lindbergh: A Biography    NaN   \n",
       "1173797  Myths, Lies, and Downright Stupidity: Get Out ...  11.91   \n",
       "2259366                                  Empire of the Sun    NaN   \n",
       "\n",
       "                User_id               profileName review/helpfulness  \\\n",
       "955449   A2L1SGWA2CPG0P                  Rosalind                0/0   \n",
       "91635               NaN                       NaN              14/20   \n",
       "2435415  A1UNMDPC9U3F4B             denny j Huber               0/13   \n",
       "1173797   AL4ELPBWZA1BO          Jack E. Vannoord              21/47   \n",
       "2259366  A2ZTQ269EBVWPC  geoffrey.vasil@flf.vu.lt                1/1   \n",
       "\n",
       "         review/score  review/time  \\\n",
       "955449            1.0   1078099200   \n",
       "91635             1.0   1065484800   \n",
       "2435415           1.0    981590400   \n",
       "1173797           1.0   1147910400   \n",
       "2259366           1.0    883440000   \n",
       "\n",
       "                                            review/summary  \\\n",
       "955449                               Sprout your business!   \n",
       "91635                     Finally, a balanced history text   \n",
       "2435415                      Indeed,God is my Co-Pilot....   \n",
       "1173797  The Truth, The Whole Truth and Nothing but the...   \n",
       "2259366  Why does some wierd guy in Shepperton speak Ja...   \n",
       "\n",
       "                                               review/text  \\\n",
       "955449   I read Sprout! in a couple of hours. Once I st...   \n",
       "91635    Some of the reviews posted here are just bizar...   \n",
       "2435415  This bio has merit,to be supplemented by many ...   \n",
       "1173797  Yes, he's glib. He writes in the same sound-bi...   \n",
       "2259366  Because he grew up as a war orphan in a Japane...   \n",
       "\n",
       "                                            tokenized_text  \n",
       "955449   [read, sprout, !, couple, hours, ., started, c...  \n",
       "91635    [reviews, posted, bizarre, -, read, ?, yes, ,,...  \n",
       "2435415  [bio, merit, ,, supplemented, many, auto-biogr...  \n",
       "1173797  [yes, ,, 's, glib, ., writes, sound-bite, styl...  \n",
       "2259366  [grew, war, orphan, japanese, internment, camp...  "
      ]
     },
     "execution_count": 40,
     "metadata": {},
     "output_type": "execute_result"
    }
   ],
   "source": [
    "sample_df.head()"
   ]
  },
  {
   "cell_type": "code",
   "execution_count": null,
   "id": "b6e5cf25",
   "metadata": {},
   "outputs": [],
   "source": [
    "# Next up is lemmatizing the text - replacing words with their root words (e.g., played, plays, playing \n",
    "# will all be changed to play)"
   ]
  },
  {
   "cell_type": "code",
   "execution_count": 49,
   "id": "b21b9260",
   "metadata": {},
   "outputs": [],
   "source": [
    "lemmatizer = WordNetLemmatizer()\n",
    "\n",
    "def lemmatize_text(text):\n",
    "    return [lemmatizer.lemmatize(w) for w in text] \n"
   ]
  },
  {
   "cell_type": "code",
   "execution_count": 45,
   "id": "cf28fe14",
   "metadata": {},
   "outputs": [
    {
     "name": "stderr",
     "output_type": "stream",
     "text": [
      "[nltk_data] Downloading package wordnet to\n",
      "[nltk_data]     C:\\Users\\liisa\\AppData\\Roaming\\nltk_data...\n"
     ]
    },
    {
     "data": {
      "text/plain": [
       "True"
      ]
     },
     "execution_count": 45,
     "metadata": {},
     "output_type": "execute_result"
    }
   ],
   "source": [
    "nltk.download('wordnet')"
   ]
  },
  {
   "cell_type": "code",
   "execution_count": 47,
   "id": "2e881ac3",
   "metadata": {},
   "outputs": [
    {
     "name": "stderr",
     "output_type": "stream",
     "text": [
      "[nltk_data] Downloading package omw-1.4 to\n",
      "[nltk_data]     C:\\Users\\liisa\\AppData\\Roaming\\nltk_data...\n"
     ]
    },
    {
     "data": {
      "text/plain": [
       "True"
      ]
     },
     "execution_count": 47,
     "metadata": {},
     "output_type": "execute_result"
    }
   ],
   "source": [
    "nltk.download('omw-1.4')"
   ]
  },
  {
   "cell_type": "code",
   "execution_count": 53,
   "id": "ae610fec",
   "metadata": {},
   "outputs": [
    {
     "data": {
      "text/html": [
       "<div>\n",
       "<style scoped>\n",
       "    .dataframe tbody tr th:only-of-type {\n",
       "        vertical-align: middle;\n",
       "    }\n",
       "\n",
       "    .dataframe tbody tr th {\n",
       "        vertical-align: top;\n",
       "    }\n",
       "\n",
       "    .dataframe thead th {\n",
       "        text-align: right;\n",
       "    }\n",
       "</style>\n",
       "<table border=\"1\" class=\"dataframe\">\n",
       "  <thead>\n",
       "    <tr style=\"text-align: right;\">\n",
       "      <th></th>\n",
       "      <th>index</th>\n",
       "      <th>Id</th>\n",
       "      <th>Title</th>\n",
       "      <th>Price</th>\n",
       "      <th>User_id</th>\n",
       "      <th>profileName</th>\n",
       "      <th>review/helpfulness</th>\n",
       "      <th>review/score</th>\n",
       "      <th>review/time</th>\n",
       "      <th>review/summary</th>\n",
       "      <th>review/text</th>\n",
       "      <th>tokenized_text</th>\n",
       "    </tr>\n",
       "  </thead>\n",
       "  <tbody>\n",
       "    <tr>\n",
       "      <th>955449</th>\n",
       "      <td>958551</td>\n",
       "      <td>1576752070</td>\n",
       "      <td>Sprout!: Everything I Need to Know about Sales...</td>\n",
       "      <td>15.56</td>\n",
       "      <td>A2L1SGWA2CPG0P</td>\n",
       "      <td>Rosalind</td>\n",
       "      <td>0/0</td>\n",
       "      <td>1.0</td>\n",
       "      <td>1078099200</td>\n",
       "      <td>Sprout your business!</td>\n",
       "      <td>I read Sprout! in a couple of hours. Once I st...</td>\n",
       "      <td>[read, sprout, !, couple, hours, ., started, c...</td>\n",
       "    </tr>\n",
       "  </tbody>\n",
       "</table>\n",
       "</div>"
      ],
      "text/plain": [
       "         index          Id                                              Title  \\\n",
       "955449  958551  1576752070  Sprout!: Everything I Need to Know about Sales...   \n",
       "\n",
       "        Price         User_id profileName review/helpfulness  review/score  \\\n",
       "955449  15.56  A2L1SGWA2CPG0P    Rosalind                0/0           1.0   \n",
       "\n",
       "        review/time         review/summary  \\\n",
       "955449   1078099200  Sprout your business!   \n",
       "\n",
       "                                              review/text  \\\n",
       "955449  I read Sprout! in a couple of hours. Once I st...   \n",
       "\n",
       "                                           tokenized_text  \n",
       "955449  [read, sprout, !, couple, hours, ., started, c...  "
      ]
     },
     "execution_count": 53,
     "metadata": {},
     "output_type": "execute_result"
    }
   ],
   "source": [
    "sample_df.loc[sample_df.index == 955449]"
   ]
  },
  {
   "cell_type": "code",
   "execution_count": 50,
   "id": "718a70c8",
   "metadata": {
    "collapsed": true
   },
   "outputs": [
    {
     "data": {
      "text/plain": [
       "955449     [read, sprout, !, couple, hour, ., started, co...\n",
       "91635      [review, posted, bizarre, -, read, ?, yes, ,, ...\n",
       "2435415    [bio, merit, ,, supplemented, many, auto-biogr...\n",
       "1173797    [yes, ,, 's, glib, ., writes, sound-bite, styl...\n",
       "2259366    [grew, war, orphan, japanese, internment, camp...\n",
       "                                 ...                        \n",
       "365057     [maybe, 40, 50, interesting, page, ..., 70, li...\n",
       "1728696    [true, disappointment, ., series, (, sutter, ,...\n",
       "198577     [weather, maker, :, man, changing, climate, me...\n",
       "2471380    [read, many, johanna, lindsey, 's, romance, di...\n",
       "1443400    [kant, stated, discovery, hume, awoke, dogmati...\n",
       "Name: tokenized_text, Length: 100000, dtype: object"
      ]
     },
     "execution_count": 50,
     "metadata": {},
     "output_type": "execute_result"
    }
   ],
   "source": [
    "sample_df['tokenized_text'].apply(lemmatize_text)"
   ]
  },
  {
   "cell_type": "code",
   "execution_count": 59,
   "id": "7acc2235",
   "metadata": {},
   "outputs": [],
   "source": [
    "def get_wn_pos(word):\n",
    "  tag = nltk.pos_tag([word])[0][1][0].upper()\n",
    "  tag_dict = {\"J\": wn.ADJ,\n",
    "                \"N\": wn.NOUN,\n",
    "                \"V\": wn.VERB,\n",
    "                \"R\": wn.ADV}\n",
    "\n",
    "  return tag_dict.get(tag, wn.NOUN)\n",
    "\n",
    "lemmatizer = nltk.stem.WordNetLemmatizer()\n",
    "\n",
    "def get_lemmatize(sent):\n",
    "  return \" \".join([lemmatizer.lemmatize(w, get_wn_pos(w)) for w in nltk.word_tokenize(sent)])"
   ]
  },
  {
   "cell_type": "code",
   "execution_count": 56,
   "id": "24783f60",
   "metadata": {},
   "outputs": [
    {
     "name": "stderr",
     "output_type": "stream",
     "text": [
      "[nltk_data] Downloading package averaged_perceptron_tagger to\n",
      "[nltk_data]     C:\\Users\\liisa\\AppData\\Roaming\\nltk_data...\n",
      "[nltk_data]   Unzipping taggers\\averaged_perceptron_tagger.zip.\n"
     ]
    },
    {
     "data": {
      "text/plain": [
       "True"
      ]
     },
     "execution_count": 56,
     "metadata": {},
     "output_type": "execute_result"
    }
   ],
   "source": [
    "nltk.download('averaged_perceptron_tagger')"
   ]
  },
  {
   "cell_type": "code",
   "execution_count": 60,
   "id": "d5e0256c",
   "metadata": {},
   "outputs": [],
   "source": [
    "sample_df['cleaned'] =sample_df['tokenized_text'].apply(' '.join)\n",
    "sample_df['review_cleaned_lemmatized'] = sample_df['cleaned'].apply(get_lemmatize)"
   ]
  },
  {
   "cell_type": "code",
   "execution_count": 61,
   "id": "a5e19e63",
   "metadata": {},
   "outputs": [
    {
     "data": {
      "text/html": [
       "<div>\n",
       "<style scoped>\n",
       "    .dataframe tbody tr th:only-of-type {\n",
       "        vertical-align: middle;\n",
       "    }\n",
       "\n",
       "    .dataframe tbody tr th {\n",
       "        vertical-align: top;\n",
       "    }\n",
       "\n",
       "    .dataframe thead th {\n",
       "        text-align: right;\n",
       "    }\n",
       "</style>\n",
       "<table border=\"1\" class=\"dataframe\">\n",
       "  <thead>\n",
       "    <tr style=\"text-align: right;\">\n",
       "      <th></th>\n",
       "      <th>index</th>\n",
       "      <th>Id</th>\n",
       "      <th>Title</th>\n",
       "      <th>Price</th>\n",
       "      <th>User_id</th>\n",
       "      <th>profileName</th>\n",
       "      <th>review/helpfulness</th>\n",
       "      <th>review/score</th>\n",
       "      <th>review/time</th>\n",
       "      <th>review/summary</th>\n",
       "      <th>review/text</th>\n",
       "      <th>tokenized_text</th>\n",
       "      <th>cleaned</th>\n",
       "      <th>review_cleaned_lemmatized</th>\n",
       "    </tr>\n",
       "  </thead>\n",
       "  <tbody>\n",
       "    <tr>\n",
       "      <th>955449</th>\n",
       "      <td>958551</td>\n",
       "      <td>1576752070</td>\n",
       "      <td>Sprout!: Everything I Need to Know about Sales...</td>\n",
       "      <td>15.56</td>\n",
       "      <td>A2L1SGWA2CPG0P</td>\n",
       "      <td>Rosalind</td>\n",
       "      <td>0/0</td>\n",
       "      <td>1.0</td>\n",
       "      <td>1078099200</td>\n",
       "      <td>Sprout your business!</td>\n",
       "      <td>I read Sprout! in a couple of hours. Once I st...</td>\n",
       "      <td>[read, sprout, !, couple, hours, ., started, c...</td>\n",
       "      <td>read sprout ! couple hours . started could n't...</td>\n",
       "      <td>read sprout ! couple hour . start could n't pu...</td>\n",
       "    </tr>\n",
       "    <tr>\n",
       "      <th>91635</th>\n",
       "      <td>91865</td>\n",
       "      <td>0673995275</td>\n",
       "      <td>The American People: Creating a Nation and a S...</td>\n",
       "      <td>NaN</td>\n",
       "      <td>NaN</td>\n",
       "      <td>NaN</td>\n",
       "      <td>14/20</td>\n",
       "      <td>1.0</td>\n",
       "      <td>1065484800</td>\n",
       "      <td>Finally, a balanced history text</td>\n",
       "      <td>Some of the reviews posted here are just bizar...</td>\n",
       "      <td>[reviews, posted, bizarre, -, read, ?, yes, ,,...</td>\n",
       "      <td>reviews posted bizarre - read ? yes , writes m...</td>\n",
       "      <td>review post bizarre - read ? yes , writes mino...</td>\n",
       "    </tr>\n",
       "    <tr>\n",
       "      <th>2435415</th>\n",
       "      <td>2442991</td>\n",
       "      <td>B000OV5U1Y</td>\n",
       "      <td>Lindbergh: A Biography</td>\n",
       "      <td>NaN</td>\n",
       "      <td>A1UNMDPC9U3F4B</td>\n",
       "      <td>denny j Huber</td>\n",
       "      <td>0/13</td>\n",
       "      <td>1.0</td>\n",
       "      <td>981590400</td>\n",
       "      <td>Indeed,God is my Co-Pilot....</td>\n",
       "      <td>This bio has merit,to be supplemented by many ...</td>\n",
       "      <td>[bio, merit, ,, supplemented, many, auto-biogr...</td>\n",
       "      <td>bio merit , supplemented many auto-biographica...</td>\n",
       "      <td>bio merit , supplement many auto-biographical ...</td>\n",
       "    </tr>\n",
       "    <tr>\n",
       "      <th>1173797</th>\n",
       "      <td>1177604</td>\n",
       "      <td>1401302548</td>\n",
       "      <td>Myths, Lies, and Downright Stupidity: Get Out ...</td>\n",
       "      <td>11.91</td>\n",
       "      <td>AL4ELPBWZA1BO</td>\n",
       "      <td>Jack E. Vannoord</td>\n",
       "      <td>21/47</td>\n",
       "      <td>1.0</td>\n",
       "      <td>1147910400</td>\n",
       "      <td>The Truth, The Whole Truth and Nothing but the...</td>\n",
       "      <td>Yes, he's glib. He writes in the same sound-bi...</td>\n",
       "      <td>[yes, ,, 's, glib, ., writes, sound-bite, styl...</td>\n",
       "      <td>yes , 's glib . writes sound-bite style uses 2...</td>\n",
       "      <td>yes , 's glib . writes sound-bite style us 20/...</td>\n",
       "    </tr>\n",
       "    <tr>\n",
       "      <th>2259366</th>\n",
       "      <td>2266402</td>\n",
       "      <td>0006547001</td>\n",
       "      <td>Empire of the Sun</td>\n",
       "      <td>NaN</td>\n",
       "      <td>A2ZTQ269EBVWPC</td>\n",
       "      <td>geoffrey.vasil@flf.vu.lt</td>\n",
       "      <td>1/1</td>\n",
       "      <td>1.0</td>\n",
       "      <td>883440000</td>\n",
       "      <td>Why does some wierd guy in Shepperton speak Ja...</td>\n",
       "      <td>Because he grew up as a war orphan in a Japane...</td>\n",
       "      <td>[grew, war, orphan, japanese, internment, camp...</td>\n",
       "      <td>grew war orphan japanese internment camp china...</td>\n",
       "      <td>grow war orphan japanese internment camp china...</td>\n",
       "    </tr>\n",
       "  </tbody>\n",
       "</table>\n",
       "</div>"
      ],
      "text/plain": [
       "           index          Id  \\\n",
       "955449    958551  1576752070   \n",
       "91635      91865  0673995275   \n",
       "2435415  2442991  B000OV5U1Y   \n",
       "1173797  1177604  1401302548   \n",
       "2259366  2266402  0006547001   \n",
       "\n",
       "                                                     Title  Price  \\\n",
       "955449   Sprout!: Everything I Need to Know about Sales...  15.56   \n",
       "91635    The American People: Creating a Nation and a S...    NaN   \n",
       "2435415                             Lindbergh: A Biography    NaN   \n",
       "1173797  Myths, Lies, and Downright Stupidity: Get Out ...  11.91   \n",
       "2259366                                  Empire of the Sun    NaN   \n",
       "\n",
       "                User_id               profileName review/helpfulness  \\\n",
       "955449   A2L1SGWA2CPG0P                  Rosalind                0/0   \n",
       "91635               NaN                       NaN              14/20   \n",
       "2435415  A1UNMDPC9U3F4B             denny j Huber               0/13   \n",
       "1173797   AL4ELPBWZA1BO          Jack E. Vannoord              21/47   \n",
       "2259366  A2ZTQ269EBVWPC  geoffrey.vasil@flf.vu.lt                1/1   \n",
       "\n",
       "         review/score  review/time  \\\n",
       "955449            1.0   1078099200   \n",
       "91635             1.0   1065484800   \n",
       "2435415           1.0    981590400   \n",
       "1173797           1.0   1147910400   \n",
       "2259366           1.0    883440000   \n",
       "\n",
       "                                            review/summary  \\\n",
       "955449                               Sprout your business!   \n",
       "91635                     Finally, a balanced history text   \n",
       "2435415                      Indeed,God is my Co-Pilot....   \n",
       "1173797  The Truth, The Whole Truth and Nothing but the...   \n",
       "2259366  Why does some wierd guy in Shepperton speak Ja...   \n",
       "\n",
       "                                               review/text  \\\n",
       "955449   I read Sprout! in a couple of hours. Once I st...   \n",
       "91635    Some of the reviews posted here are just bizar...   \n",
       "2435415  This bio has merit,to be supplemented by many ...   \n",
       "1173797  Yes, he's glib. He writes in the same sound-bi...   \n",
       "2259366  Because he grew up as a war orphan in a Japane...   \n",
       "\n",
       "                                            tokenized_text  \\\n",
       "955449   [read, sprout, !, couple, hours, ., started, c...   \n",
       "91635    [reviews, posted, bizarre, -, read, ?, yes, ,,...   \n",
       "2435415  [bio, merit, ,, supplemented, many, auto-biogr...   \n",
       "1173797  [yes, ,, 's, glib, ., writes, sound-bite, styl...   \n",
       "2259366  [grew, war, orphan, japanese, internment, camp...   \n",
       "\n",
       "                                                   cleaned  \\\n",
       "955449   read sprout ! couple hours . started could n't...   \n",
       "91635    reviews posted bizarre - read ? yes , writes m...   \n",
       "2435415  bio merit , supplemented many auto-biographica...   \n",
       "1173797  yes , 's glib . writes sound-bite style uses 2...   \n",
       "2259366  grew war orphan japanese internment camp china...   \n",
       "\n",
       "                                 review_cleaned_lemmatized  \n",
       "955449   read sprout ! couple hour . start could n't pu...  \n",
       "91635    review post bizarre - read ? yes , writes mino...  \n",
       "2435415  bio merit , supplement many auto-biographical ...  \n",
       "1173797  yes , 's glib . writes sound-bite style us 20/...  \n",
       "2259366  grow war orphan japanese internment camp china...  "
      ]
     },
     "execution_count": 61,
     "metadata": {},
     "output_type": "execute_result"
    }
   ],
   "source": [
    "sample_df.head()"
   ]
  },
  {
   "cell_type": "code",
   "execution_count": 63,
   "id": "c2b9752f",
   "metadata": {},
   "outputs": [
    {
     "name": "stderr",
     "output_type": "stream",
     "text": [
      "C:\\Users\\liisa\\AppData\\Local\\Temp\\ipykernel_6988\\1912873563.py:2: FutureWarning: The default value of regex will change from True to False in a future version.\n",
      "  sample_df['review_cleaned_lemmatized'] = sample_df['review_cleaned_lemmatized'].str.replace(r'[^\\w\\s]+', '')\n"
     ]
    }
   ],
   "source": [
    "# Remove the punctuation and then continue with the more advanced preprocessing\n",
    "sample_df['review_cleaned_lemmatized'] = sample_df['review_cleaned_lemmatized'].str.replace(r'[^\\w\\s]+', '')"
   ]
  },
  {
   "cell_type": "code",
   "execution_count": 65,
   "id": "ecf833d1",
   "metadata": {},
   "outputs": [
    {
     "name": "stderr",
     "output_type": "stream",
     "text": [
      "C:\\Users\\liisa\\AppData\\Local\\Temp\\ipykernel_6988\\2156378743.py:3: FutureWarning: The default value of regex will change from True to False in a future version.\n",
      "  sample_df['review_cleaned_lemmatized'] = sample_df['review_cleaned_lemmatized'].str.replace('\\d+', '')\n"
     ]
    }
   ],
   "source": [
    "# I will remove the numbers too because they don't be much help in text analysis\n",
    "\n",
    "sample_df['review_cleaned_lemmatized'] = sample_df['review_cleaned_lemmatized'].str.replace('\\d+', '')"
   ]
  },
  {
   "cell_type": "code",
   "execution_count": 66,
   "id": "05444cb1",
   "metadata": {},
   "outputs": [
    {
     "data": {
      "text/html": [
       "<div>\n",
       "<style scoped>\n",
       "    .dataframe tbody tr th:only-of-type {\n",
       "        vertical-align: middle;\n",
       "    }\n",
       "\n",
       "    .dataframe tbody tr th {\n",
       "        vertical-align: top;\n",
       "    }\n",
       "\n",
       "    .dataframe thead th {\n",
       "        text-align: right;\n",
       "    }\n",
       "</style>\n",
       "<table border=\"1\" class=\"dataframe\">\n",
       "  <thead>\n",
       "    <tr style=\"text-align: right;\">\n",
       "      <th></th>\n",
       "      <th>index</th>\n",
       "      <th>Id</th>\n",
       "      <th>Title</th>\n",
       "      <th>Price</th>\n",
       "      <th>User_id</th>\n",
       "      <th>profileName</th>\n",
       "      <th>review/helpfulness</th>\n",
       "      <th>review/score</th>\n",
       "      <th>review/time</th>\n",
       "      <th>review/summary</th>\n",
       "      <th>review/text</th>\n",
       "      <th>tokenized_text</th>\n",
       "      <th>cleaned</th>\n",
       "      <th>review_cleaned_lemmatized</th>\n",
       "    </tr>\n",
       "  </thead>\n",
       "  <tbody>\n",
       "    <tr>\n",
       "      <th>955449</th>\n",
       "      <td>958551</td>\n",
       "      <td>1576752070</td>\n",
       "      <td>Sprout!: Everything I Need to Know about Sales...</td>\n",
       "      <td>15.56</td>\n",
       "      <td>A2L1SGWA2CPG0P</td>\n",
       "      <td>Rosalind</td>\n",
       "      <td>0/0</td>\n",
       "      <td>1.0</td>\n",
       "      <td>1078099200</td>\n",
       "      <td>Sprout your business!</td>\n",
       "      <td>I read Sprout! in a couple of hours. Once I st...</td>\n",
       "      <td>[read, sprout, !, couple, hours, ., started, c...</td>\n",
       "      <td>read sprout ! couple hours . started could n't...</td>\n",
       "      <td>read sprout  couple hour  start could nt put  ...</td>\n",
       "    </tr>\n",
       "    <tr>\n",
       "      <th>91635</th>\n",
       "      <td>91865</td>\n",
       "      <td>0673995275</td>\n",
       "      <td>The American People: Creating a Nation and a S...</td>\n",
       "      <td>NaN</td>\n",
       "      <td>NaN</td>\n",
       "      <td>NaN</td>\n",
       "      <td>14/20</td>\n",
       "      <td>1.0</td>\n",
       "      <td>1065484800</td>\n",
       "      <td>Finally, a balanced history text</td>\n",
       "      <td>Some of the reviews posted here are just bizar...</td>\n",
       "      <td>[reviews, posted, bizarre, -, read, ?, yes, ,,...</td>\n",
       "      <td>reviews posted bizarre - read ? yes , writes m...</td>\n",
       "      <td>review post bizarre  read  yes  writes minorit...</td>\n",
       "    </tr>\n",
       "    <tr>\n",
       "      <th>2435415</th>\n",
       "      <td>2442991</td>\n",
       "      <td>B000OV5U1Y</td>\n",
       "      <td>Lindbergh: A Biography</td>\n",
       "      <td>NaN</td>\n",
       "      <td>A1UNMDPC9U3F4B</td>\n",
       "      <td>denny j Huber</td>\n",
       "      <td>0/13</td>\n",
       "      <td>1.0</td>\n",
       "      <td>981590400</td>\n",
       "      <td>Indeed,God is my Co-Pilot....</td>\n",
       "      <td>This bio has merit,to be supplemented by many ...</td>\n",
       "      <td>[bio, merit, ,, supplemented, many, auto-biogr...</td>\n",
       "      <td>bio merit , supplemented many auto-biographica...</td>\n",
       "      <td>bio merit  supplement many autobiographical wr...</td>\n",
       "    </tr>\n",
       "    <tr>\n",
       "      <th>1173797</th>\n",
       "      <td>1177604</td>\n",
       "      <td>1401302548</td>\n",
       "      <td>Myths, Lies, and Downright Stupidity: Get Out ...</td>\n",
       "      <td>11.91</td>\n",
       "      <td>AL4ELPBWZA1BO</td>\n",
       "      <td>Jack E. Vannoord</td>\n",
       "      <td>21/47</td>\n",
       "      <td>1.0</td>\n",
       "      <td>1147910400</td>\n",
       "      <td>The Truth, The Whole Truth and Nothing but the...</td>\n",
       "      <td>Yes, he's glib. He writes in the same sound-bi...</td>\n",
       "      <td>[yes, ,, 's, glib, ., writes, sound-bite, styl...</td>\n",
       "      <td>yes , 's glib . writes sound-bite style uses 2...</td>\n",
       "      <td>yes  s glib  writes soundbite style us  speica...</td>\n",
       "    </tr>\n",
       "    <tr>\n",
       "      <th>2259366</th>\n",
       "      <td>2266402</td>\n",
       "      <td>0006547001</td>\n",
       "      <td>Empire of the Sun</td>\n",
       "      <td>NaN</td>\n",
       "      <td>A2ZTQ269EBVWPC</td>\n",
       "      <td>geoffrey.vasil@flf.vu.lt</td>\n",
       "      <td>1/1</td>\n",
       "      <td>1.0</td>\n",
       "      <td>883440000</td>\n",
       "      <td>Why does some wierd guy in Shepperton speak Ja...</td>\n",
       "      <td>Because he grew up as a war orphan in a Japane...</td>\n",
       "      <td>[grew, war, orphan, japanese, internment, camp...</td>\n",
       "      <td>grew war orphan japanese internment camp china...</td>\n",
       "      <td>grow war orphan japanese internment camp china...</td>\n",
       "    </tr>\n",
       "  </tbody>\n",
       "</table>\n",
       "</div>"
      ],
      "text/plain": [
       "           index          Id  \\\n",
       "955449    958551  1576752070   \n",
       "91635      91865  0673995275   \n",
       "2435415  2442991  B000OV5U1Y   \n",
       "1173797  1177604  1401302548   \n",
       "2259366  2266402  0006547001   \n",
       "\n",
       "                                                     Title  Price  \\\n",
       "955449   Sprout!: Everything I Need to Know about Sales...  15.56   \n",
       "91635    The American People: Creating a Nation and a S...    NaN   \n",
       "2435415                             Lindbergh: A Biography    NaN   \n",
       "1173797  Myths, Lies, and Downright Stupidity: Get Out ...  11.91   \n",
       "2259366                                  Empire of the Sun    NaN   \n",
       "\n",
       "                User_id               profileName review/helpfulness  \\\n",
       "955449   A2L1SGWA2CPG0P                  Rosalind                0/0   \n",
       "91635               NaN                       NaN              14/20   \n",
       "2435415  A1UNMDPC9U3F4B             denny j Huber               0/13   \n",
       "1173797   AL4ELPBWZA1BO          Jack E. Vannoord              21/47   \n",
       "2259366  A2ZTQ269EBVWPC  geoffrey.vasil@flf.vu.lt                1/1   \n",
       "\n",
       "         review/score  review/time  \\\n",
       "955449            1.0   1078099200   \n",
       "91635             1.0   1065484800   \n",
       "2435415           1.0    981590400   \n",
       "1173797           1.0   1147910400   \n",
       "2259366           1.0    883440000   \n",
       "\n",
       "                                            review/summary  \\\n",
       "955449                               Sprout your business!   \n",
       "91635                     Finally, a balanced history text   \n",
       "2435415                      Indeed,God is my Co-Pilot....   \n",
       "1173797  The Truth, The Whole Truth and Nothing but the...   \n",
       "2259366  Why does some wierd guy in Shepperton speak Ja...   \n",
       "\n",
       "                                               review/text  \\\n",
       "955449   I read Sprout! in a couple of hours. Once I st...   \n",
       "91635    Some of the reviews posted here are just bizar...   \n",
       "2435415  This bio has merit,to be supplemented by many ...   \n",
       "1173797  Yes, he's glib. He writes in the same sound-bi...   \n",
       "2259366  Because he grew up as a war orphan in a Japane...   \n",
       "\n",
       "                                            tokenized_text  \\\n",
       "955449   [read, sprout, !, couple, hours, ., started, c...   \n",
       "91635    [reviews, posted, bizarre, -, read, ?, yes, ,,...   \n",
       "2435415  [bio, merit, ,, supplemented, many, auto-biogr...   \n",
       "1173797  [yes, ,, 's, glib, ., writes, sound-bite, styl...   \n",
       "2259366  [grew, war, orphan, japanese, internment, camp...   \n",
       "\n",
       "                                                   cleaned  \\\n",
       "955449   read sprout ! couple hours . started could n't...   \n",
       "91635    reviews posted bizarre - read ? yes , writes m...   \n",
       "2435415  bio merit , supplemented many auto-biographica...   \n",
       "1173797  yes , 's glib . writes sound-bite style uses 2...   \n",
       "2259366  grew war orphan japanese internment camp china...   \n",
       "\n",
       "                                 review_cleaned_lemmatized  \n",
       "955449   read sprout  couple hour  start could nt put  ...  \n",
       "91635    review post bizarre  read  yes  writes minorit...  \n",
       "2435415  bio merit  supplement many autobiographical wr...  \n",
       "1173797  yes  s glib  writes soundbite style us  speica...  \n",
       "2259366  grow war orphan japanese internment camp china...  "
      ]
     },
     "execution_count": 66,
     "metadata": {},
     "output_type": "execute_result"
    }
   ],
   "source": [
    "sample_df.head()"
   ]
  },
  {
   "cell_type": "code",
   "execution_count": 22,
   "id": "22d7959b",
   "metadata": {},
   "outputs": [
    {
     "data": {
      "text/plain": [
       "index                            0\n",
       "Id                               0\n",
       "Title                            0\n",
       "Price                        83743\n",
       "User_id                      20703\n",
       "profileName                  20705\n",
       "review/helpfulness               0\n",
       "review/score                     0\n",
       "review/time                      0\n",
       "review/summary                   3\n",
       "review/text                      0\n",
       "tokenized_text                   0\n",
       "cleaned                          1\n",
       "review_cleaned_lemmatized        1\n",
       "dtype: int64"
      ]
     },
     "execution_count": 22,
     "metadata": {},
     "output_type": "execute_result"
    }
   ],
   "source": [
    "sample_df.isna().sum()"
   ]
  },
  {
   "cell_type": "code",
   "execution_count": 24,
   "id": "71eabfa0",
   "metadata": {},
   "outputs": [],
   "source": [
    "sample_df = sample_df.dropna(subset=['review_cleaned_lemmatized'])"
   ]
  },
  {
   "cell_type": "code",
   "execution_count": 68,
   "id": "87ce1223",
   "metadata": {},
   "outputs": [],
   "source": [
    "sample_df.to_csv(\"sample.csv\", index=False)"
   ]
  },
  {
   "cell_type": "markdown",
   "id": "b0e2e63c",
   "metadata": {},
   "source": [
    "## Step 5:  Choose my target metric - Accuracy"
   ]
  },
  {
   "cell_type": "markdown",
   "id": "b19e5676",
   "metadata": {},
   "source": [
    "## Step 6:  Train test split"
   ]
  },
  {
   "cell_type": "code",
   "execution_count": 26,
   "id": "9de9e89c",
   "metadata": {},
   "outputs": [],
   "source": [
    "X = sample_df['review_cleaned_lemmatized']\n",
    "y = sample_df['review/score']\n",
    "\n",
    "from sklearn.model_selection import train_test_split\n",
    "\n",
    "X_train, X_test, y_train, y_test = train_test_split(X, y, random_state=99, test_size = .3)"
   ]
  },
  {
   "cell_type": "markdown",
   "id": "cbd6c88b",
   "metadata": {},
   "source": [
    "## Step 5:  More advanced preprocessing"
   ]
  },
  {
   "cell_type": "code",
   "execution_count": 4,
   "id": "d9bda2ce",
   "metadata": {},
   "outputs": [],
   "source": [
    "from sklearn.feature_extraction.text import CountVectorizer\n",
    "count_vect = CountVectorizer()\n",
    "\n",
    "from sklearn.feature_extraction.text import TfidfTransformer\n",
    "tfidf_transformer = TfidfTransformer()"
   ]
  },
  {
   "cell_type": "code",
   "execution_count": 5,
   "id": "bd3e099e",
   "metadata": {},
   "outputs": [],
   "source": [
    "# Do the cross-validation on the models by importing them\n",
    "from sklearn.linear_model import LogisticRegression\n",
    "from sklearn.naive_bayes import MultinomialNB"
   ]
  },
  {
   "cell_type": "code",
   "execution_count": 6,
   "id": "df429c57",
   "metadata": {},
   "outputs": [],
   "source": [
    "from sklearn.pipeline import make_pipeline\n",
    "\n",
    "clf = LogisticRegression(max_iter=500)\n",
    "count_vect = CountVectorizer(ngram_range=(1, 2))\n",
    "tfidf_transformer = TfidfTransformer()\n",
    "\n",
    "pipe = make_pipeline(count_vect, tfidf_transformer, clf)"
   ]
  },
  {
   "cell_type": "code",
   "execution_count": 10,
   "id": "da86653c",
   "metadata": {},
   "outputs": [
    {
     "data": {
      "text/plain": [
       "Pipeline(steps=[('countvectorizer', CountVectorizer(ngram_range=(1, 2))),\n",
       "                ('tfidftransformer', TfidfTransformer()),\n",
       "                ('logisticregression', LogisticRegression(max_iter=500))])"
      ]
     },
     "execution_count": 10,
     "metadata": {},
     "output_type": "execute_result"
    }
   ],
   "source": [
    "pipe.fit(X_train, y_train)"
   ]
  },
  {
   "cell_type": "code",
   "execution_count": 11,
   "id": "16acf4cf",
   "metadata": {},
   "outputs": [
    {
     "data": {
      "text/plain": [
       "0.9414714285714286"
      ]
     },
     "execution_count": 11,
     "metadata": {},
     "output_type": "execute_result"
    }
   ],
   "source": [
    "pipe.score(X_train,y_train)"
   ]
  },
  {
   "cell_type": "markdown",
   "id": "acba90d4",
   "metadata": {},
   "source": [
    "## Day 2 - Continue to look at other models  - NaiveBayes and XGBoost"
   ]
  },
  {
   "cell_type": "code",
   "execution_count": 1,
   "id": "304f998e",
   "metadata": {},
   "outputs": [
    {
     "ename": "NameError",
     "evalue": "name 'pd' is not defined",
     "output_type": "error",
     "traceback": [
      "\u001b[1;31m---------------------------------------------------------------------------\u001b[0m",
      "\u001b[1;31mNameError\u001b[0m                                 Traceback (most recent call last)",
      "\u001b[1;32m~\\AppData\\Local\\Temp\\ipykernel_2752\\816555533.py\u001b[0m in \u001b[0;36m<module>\u001b[1;34m\u001b[0m\n\u001b[1;32m----> 1\u001b[1;33m \u001b[0msample_df\u001b[0m \u001b[1;33m=\u001b[0m \u001b[0mpd\u001b[0m\u001b[1;33m.\u001b[0m\u001b[0mread_csv\u001b[0m\u001b[1;33m(\u001b[0m\u001b[1;34m'sample.csv'\u001b[0m\u001b[1;33m)\u001b[0m\u001b[1;33m\u001b[0m\u001b[1;33m\u001b[0m\u001b[0m\n\u001b[0m",
      "\u001b[1;31mNameError\u001b[0m: name 'pd' is not defined"
     ]
    }
   ],
   "source": [
    "sample_df = pd.read_csv('sample.csv')"
   ]
  },
  {
   "cell_type": "code",
   "execution_count": 27,
   "id": "5f6b1527",
   "metadata": {},
   "outputs": [],
   "source": [
    "## Train the model on Multinomial Bayes, which gives pretty good results\n",
    "\n",
    "from sklearn.pipeline import make_pipeline\n",
    "\n",
    "clf = MultinomialNB()\n",
    "count_vect = CountVectorizer(ngram_range=(1, 2))\n",
    "tfidf_transformer = TfidfTransformer()\n",
    "\n",
    "pipe = make_pipeline(count_vect, tfidf_transformer, clf)"
   ]
  },
  {
   "cell_type": "code",
   "execution_count": 28,
   "id": "93085db0",
   "metadata": {},
   "outputs": [
    {
     "data": {
      "text/plain": [
       "Pipeline(steps=[('countvectorizer', CountVectorizer(ngram_range=(1, 2))),\n",
       "                ('tfidftransformer', TfidfTransformer()),\n",
       "                ('multinomialnb', MultinomialNB())])"
      ]
     },
     "execution_count": 28,
     "metadata": {},
     "output_type": "execute_result"
    }
   ],
   "source": [
    "pipe.fit(X_train, y_train)"
   ]
  },
  {
   "cell_type": "code",
   "execution_count": 29,
   "id": "d52a4488",
   "metadata": {},
   "outputs": [
    {
     "data": {
      "text/plain": [
       "0.9774139630566151"
      ]
     },
     "execution_count": 29,
     "metadata": {},
     "output_type": "execute_result"
    }
   ],
   "source": [
    "pipe.score(X_train, y_train)"
   ]
  },
  {
   "cell_type": "code",
   "execution_count": 30,
   "id": "6cad53ff",
   "metadata": {},
   "outputs": [
    {
     "data": {
      "text/plain": [
       "Pipeline(steps=[('countvectorizer', CountVectorizer(ngram_range=(1, 2))),\n",
       "                ('tfidftransformer', TfidfTransformer()),\n",
       "                ('multinomialnb', MultinomialNB())])"
      ]
     },
     "execution_count": 30,
     "metadata": {},
     "output_type": "execute_result"
    }
   ],
   "source": [
    "pipe"
   ]
  },
  {
   "cell_type": "markdown",
   "id": "e8575f52",
   "metadata": {},
   "source": [
    "## Below are the NBayes test scores"
   ]
  },
  {
   "cell_type": "code",
   "execution_count": 31,
   "id": "74c8f95a",
   "metadata": {},
   "outputs": [
    {
     "data": {
      "text/plain": [
       "0.8740666666666667"
      ]
     },
     "execution_count": 31,
     "metadata": {},
     "output_type": "execute_result"
    }
   ],
   "source": [
    "pipe.score(X_test, y_test)"
   ]
  },
  {
   "cell_type": "code",
   "execution_count": 33,
   "id": "acaf991e",
   "metadata": {},
   "outputs": [
    {
     "data": {
      "text/plain": [
       "<sklearn.metrics._plot.confusion_matrix.ConfusionMatrixDisplay at 0x1caaa5cefd0>"
      ]
     },
     "execution_count": 33,
     "metadata": {},
     "output_type": "execute_result"
    },
    {
     "data": {
      "image/png": "[encoded data removed]",
      "text/plain": [
       "<Figure size 640x480 with 2 Axes>"
      ]
     },
     "metadata": {},
     "output_type": "display_data"
    }
   ],
   "source": [
    "from sklearn.metrics import ConfusionMatrixDisplay\n",
    "\n",
    "ConfusionMatrixDisplay.from_estimator(pipe, X_test, y_test)\n"
   ]
  },
  {
   "cell_type": "markdown",
   "id": "dec11faa",
   "metadata": {},
   "source": [
    "## XGBoost Scores (without hyperparameters)"
   ]
  },
  {
   "cell_type": "code",
   "execution_count": 10,
   "id": "6f8e0972",
   "metadata": {},
   "outputs": [],
   "source": [
    "## Try XGBoost also for comparison\n",
    "import xgboost as xgb\n",
    "from xgboost import XGBClassifier"
   ]
  },
  {
   "cell_type": "code",
   "execution_count": 11,
   "id": "809e9847",
   "metadata": {},
   "outputs": [],
   "source": [
    "clf = XGBClassifier()\n",
    "count_vect = CountVectorizer(ngram_range=(1, 2))\n",
    "tfidf_transformer = TfidfTransformer()\n",
    "\n",
    "pipe = make_pipeline(count_vect, tfidf_transformer, clf)\n"
   ]
  },
  {
   "cell_type": "code",
   "execution_count": 19,
   "id": "f6dd0b49",
   "metadata": {},
   "outputs": [
    {
     "data": {
      "text/plain": [
       "Pipeline(steps=[('countvectorizer', CountVectorizer(ngram_range=(1, 2))),\n",
       "                ('tfidftransformer', TfidfTransformer()),\n",
       "                ('xgbclassifier',\n",
       "                 XGBClassifier(base_score=None, booster=None, callbacks=None,\n",
       "                               colsample_bylevel=None, colsample_bynode=None,\n",
       "                               colsample_bytree=None,\n",
       "                               early_stopping_rounds=None,\n",
       "                               enable_categorical=False, eval_metric=None,\n",
       "                               feature_types=None, gamma=Non...e,\n",
       "                               grow_policy=None, importance_type=None,\n",
       "                               interaction_constraints=None, learning_rate=None,\n",
       "                               max_bin=None, max_cat_threshold=None,\n",
       "                               max_cat_to_onehot=None, max_delta_step=None,\n",
       "                               max_depth=None, max_leaves=None,\n",
       "                               min_child_weight=None, missing=nan,\n",
       "                               monotone_constraints=None, n_estimators=100,\n",
       "                               n_jobs=None, num_parallel_tree=None,\n",
       "                               predictor=None, random_state=None, ...))])"
      ]
     },
     "execution_count": 19,
     "metadata": {},
     "output_type": "execute_result"
    }
   ],
   "source": [
    "pipe.fit(X_train, y_train)"
   ]
  },
  {
   "cell_type": "code",
   "execution_count": 20,
   "id": "d4b7e10c",
   "metadata": {},
   "outputs": [
    {
     "data": {
      "text/plain": [
       "0.8914714285714286"
      ]
     },
     "execution_count": 20,
     "metadata": {},
     "output_type": "execute_result"
    }
   ],
   "source": [
    "pipe.score(X_train, y_train)"
   ]
  },
  {
   "cell_type": "markdown",
   "id": "58935252",
   "metadata": {},
   "source": [
    "## Step 6:  XGBoost has a lot of hyperparamters but because Bayes score so well on the test, we'll tune that a bit and try to tweak the results"
   ]
  },
  {
   "cell_type": "code",
   "execution_count": 13,
   "id": "adbe6f82",
   "metadata": {},
   "outputs": [],
   "source": [
    "from sklearn.model_selection import GridSearchCV"
   ]
  },
  {
   "cell_type": "code",
   "execution_count": 24,
   "id": "000f8c48",
   "metadata": {
    "run_control": {
     "marked": false
    }
   },
   "outputs": [
    {
     "name": "stdout",
     "output_type": "stream",
     "text": [
      "Best score: 0.8725142857142858\n",
      "Best parameter: {'multinomialnb__alpha': 0.1}\n"
     ]
    }
   ],
   "source": [
    "param_grid_nb = {'multinomialnb__alpha': (1, 0.1, 0.01, 0.001, 0.0001, 0.00001)}\n",
    "\n",
    "clf = MultinomialNB()\n",
    "count_vect = CountVectorizer(ngram_range=(1, 2))\n",
    "tfidf_transformer = TfidfTransformer()\n",
    "\n",
    "pipe = make_pipeline(count_vect, tfidf_transformer, clf)\n",
    "\n",
    "\n",
    "grid_nb = GridSearchCV(estimator=pipe, param_grid=param_grid_nb, cv=5, scoring='accuracy')\n",
    "\n",
    "grid_nb.fit(X_train, y_train)\n",
    "\n",
    "print('Best score:', grid_nb.best_score_)\n",
    "print('Best parameter:', grid_nb.best_params_)"
   ]
  },
  {
   "cell_type": "markdown",
   "id": "3812a96c",
   "metadata": {},
   "source": [
    "## Day 3:  Logistic Regression Hyperparameters (still on training data)"
   ]
  },
  {
   "cell_type": "code",
   "execution_count": 30,
   "id": "ec477e0b",
   "metadata": {},
   "outputs": [
    {
     "name": "stdout",
     "output_type": "stream",
     "text": [
      "Best score: 0.8944142857142857\n",
      "Best parameter: {'logisticregression__C': 1000}\n"
     ]
    }
   ],
   "source": [
    "param_grid_logreg = {\n",
    "    'logisticregression__C': [0.1, 1, 10, 100, 1000]\n",
    "    } \n",
    "clf = LogisticRegression(max_iter=1000)\n",
    "pipe = make_pipeline(count_vect, tfidf_transformer, clf)\n",
    "\n",
    "grid_logreg = GridSearchCV(estimator=pipe, param_grid=param_grid_logreg, cv=5, scoring='accuracy')\n",
    "\n",
    "grid_logreg.fit(X_train, y_train)\n",
    "\n",
    "print('Best score:', grid_logreg.best_score_)\n",
    "print('Best parameter:', grid_logreg.best_params_)"
   ]
  },
  {
   "cell_type": "markdown",
   "id": "a9ae1550",
   "metadata": {},
   "source": [
    "## One more attempt to run the xg boost with hyperparameters\n",
    "- did not work, XGBoost took too much CPU to run"
   ]
  },
  {
   "cell_type": "code",
   "execution_count": 34,
   "id": "98c5d4ab",
   "metadata": {
    "collapsed": true
   },
   "outputs": [
    {
     "ename": "KeyboardInterrupt",
     "evalue": "",
     "output_type": "error",
     "traceback": [
      "\u001b[1;31m---------------------------------------------------------------------------\u001b[0m",
      "\u001b[1;31mKeyboardInterrupt\u001b[0m                         Traceback (most recent call last)",
      "\u001b[1;32m~\\AppData\\Local\\Temp\\ipykernel_16496\\2726889398.py\u001b[0m in \u001b[0;36m<module>\u001b[1;34m\u001b[0m\n\u001b[0;32m     17\u001b[0m \u001b[0mgrid_xgb\u001b[0m \u001b[1;33m=\u001b[0m \u001b[0mGridSearchCV\u001b[0m\u001b[1;33m(\u001b[0m\u001b[0mestimator\u001b[0m\u001b[1;33m=\u001b[0m\u001b[0mpipe\u001b[0m\u001b[1;33m,\u001b[0m \u001b[0mparam_grid\u001b[0m\u001b[1;33m=\u001b[0m\u001b[0mparam_grid_xgb\u001b[0m\u001b[1;33m,\u001b[0m \u001b[0mcv\u001b[0m\u001b[1;33m=\u001b[0m\u001b[1;36m3\u001b[0m\u001b[1;33m,\u001b[0m \u001b[0mscoring\u001b[0m\u001b[1;33m=\u001b[0m\u001b[1;34m'accuracy'\u001b[0m\u001b[1;33m)\u001b[0m\u001b[1;33m\u001b[0m\u001b[1;33m\u001b[0m\u001b[0m\n\u001b[0;32m     18\u001b[0m \u001b[1;33m\u001b[0m\u001b[0m\n\u001b[1;32m---> 19\u001b[1;33m \u001b[0mgrid_xgb\u001b[0m\u001b[1;33m.\u001b[0m\u001b[0mfit\u001b[0m\u001b[1;33m(\u001b[0m\u001b[0mX_train\u001b[0m\u001b[1;33m,\u001b[0m \u001b[0my_train\u001b[0m\u001b[1;33m)\u001b[0m\u001b[1;33m\u001b[0m\u001b[1;33m\u001b[0m\u001b[0m\n\u001b[0m\u001b[0;32m     20\u001b[0m \u001b[1;33m\u001b[0m\u001b[0m\n\u001b[0;32m     21\u001b[0m \u001b[0mprint\u001b[0m\u001b[1;33m(\u001b[0m\u001b[1;34m'Best score:'\u001b[0m\u001b[1;33m,\u001b[0m \u001b[0mgrid_xgb\u001b[0m\u001b[1;33m.\u001b[0m\u001b[0mbest_score_\u001b[0m\u001b[1;33m)\u001b[0m\u001b[1;33m\u001b[0m\u001b[1;33m\u001b[0m\u001b[0m\n",
      "\u001b[1;32m~\\anaconda3\\lib\\site-packages\\sklearn\\model_selection\\_search.py\u001b[0m in \u001b[0;36mfit\u001b[1;34m(self, X, y, groups, **fit_params)\u001b[0m\n\u001b[0;32m    889\u001b[0m                 \u001b[1;32mreturn\u001b[0m \u001b[0mresults\u001b[0m\u001b[1;33m\u001b[0m\u001b[1;33m\u001b[0m\u001b[0m\n\u001b[0;32m    890\u001b[0m \u001b[1;33m\u001b[0m\u001b[0m\n\u001b[1;32m--> 891\u001b[1;33m             \u001b[0mself\u001b[0m\u001b[1;33m.\u001b[0m\u001b[0m_run_search\u001b[0m\u001b[1;33m(\u001b[0m\u001b[0mevaluate_candidates\u001b[0m\u001b[1;33m)\u001b[0m\u001b[1;33m\u001b[0m\u001b[1;33m\u001b[0m\u001b[0m\n\u001b[0m\u001b[0;32m    892\u001b[0m \u001b[1;33m\u001b[0m\u001b[0m\n\u001b[0;32m    893\u001b[0m             \u001b[1;31m# multimetric is determined here because in the case of a callable\u001b[0m\u001b[1;33m\u001b[0m\u001b[1;33m\u001b[0m\u001b[0m\n",
      "\u001b[1;32m~\\anaconda3\\lib\\site-packages\\sklearn\\model_selection\\_search.py\u001b[0m in \u001b[0;36m_run_search\u001b[1;34m(self, evaluate_candidates)\u001b[0m\n\u001b[0;32m   1390\u001b[0m     \u001b[1;32mdef\u001b[0m \u001b[0m_run_search\u001b[0m\u001b[1;33m(\u001b[0m\u001b[0mself\u001b[0m\u001b[1;33m,\u001b[0m \u001b[0mevaluate_candidates\u001b[0m\u001b[1;33m)\u001b[0m\u001b[1;33m:\u001b[0m\u001b[1;33m\u001b[0m\u001b[1;33m\u001b[0m\u001b[0m\n\u001b[0;32m   1391\u001b[0m         \u001b[1;34m\"\"\"Search all candidates in param_grid\"\"\"\u001b[0m\u001b[1;33m\u001b[0m\u001b[1;33m\u001b[0m\u001b[0m\n\u001b[1;32m-> 1392\u001b[1;33m         \u001b[0mevaluate_candidates\u001b[0m\u001b[1;33m(\u001b[0m\u001b[0mParameterGrid\u001b[0m\u001b[1;33m(\u001b[0m\u001b[0mself\u001b[0m\u001b[1;33m.\u001b[0m\u001b[0mparam_grid\u001b[0m\u001b[1;33m)\u001b[0m\u001b[1;33m)\u001b[0m\u001b[1;33m\u001b[0m\u001b[1;33m\u001b[0m\u001b[0m\n\u001b[0m\u001b[0;32m   1393\u001b[0m \u001b[1;33m\u001b[0m\u001b[0m\n\u001b[0;32m   1394\u001b[0m \u001b[1;33m\u001b[0m\u001b[0m\n",
      "\u001b[1;32m~\\anaconda3\\lib\\site-packages\\sklearn\\model_selection\\_search.py\u001b[0m in \u001b[0;36mevaluate_candidates\u001b[1;34m(candidate_params, cv, more_results)\u001b[0m\n\u001b[0;32m    836\u001b[0m                     )\n\u001b[0;32m    837\u001b[0m \u001b[1;33m\u001b[0m\u001b[0m\n\u001b[1;32m--> 838\u001b[1;33m                 out = parallel(\n\u001b[0m\u001b[0;32m    839\u001b[0m                     delayed(_fit_and_score)(\n\u001b[0;32m    840\u001b[0m                         \u001b[0mclone\u001b[0m\u001b[1;33m(\u001b[0m\u001b[0mbase_estimator\u001b[0m\u001b[1;33m)\u001b[0m\u001b[1;33m,\u001b[0m\u001b[1;33m\u001b[0m\u001b[1;33m\u001b[0m\u001b[0m\n",
      "\u001b[1;32m~\\anaconda3\\lib\\site-packages\\joblib\\parallel.py\u001b[0m in \u001b[0;36m__call__\u001b[1;34m(self, iterable)\u001b[0m\n\u001b[0;32m   1041\u001b[0m             \u001b[1;31m# remaining jobs.\u001b[0m\u001b[1;33m\u001b[0m\u001b[1;33m\u001b[0m\u001b[0m\n\u001b[0;32m   1042\u001b[0m             \u001b[0mself\u001b[0m\u001b[1;33m.\u001b[0m\u001b[0m_iterating\u001b[0m \u001b[1;33m=\u001b[0m \u001b[1;32mFalse\u001b[0m\u001b[1;33m\u001b[0m\u001b[1;33m\u001b[0m\u001b[0m\n\u001b[1;32m-> 1043\u001b[1;33m             \u001b[1;32mif\u001b[0m \u001b[0mself\u001b[0m\u001b[1;33m.\u001b[0m\u001b[0mdispatch_one_batch\u001b[0m\u001b[1;33m(\u001b[0m\u001b[0miterator\u001b[0m\u001b[1;33m)\u001b[0m\u001b[1;33m:\u001b[0m\u001b[1;33m\u001b[0m\u001b[1;33m\u001b[0m\u001b[0m\n\u001b[0m\u001b[0;32m   1044\u001b[0m                 \u001b[0mself\u001b[0m\u001b[1;33m.\u001b[0m\u001b[0m_iterating\u001b[0m \u001b[1;33m=\u001b[0m \u001b[0mself\u001b[0m\u001b[1;33m.\u001b[0m\u001b[0m_original_iterator\u001b[0m \u001b[1;32mis\u001b[0m \u001b[1;32mnot\u001b[0m \u001b[1;32mNone\u001b[0m\u001b[1;33m\u001b[0m\u001b[1;33m\u001b[0m\u001b[0m\n\u001b[0;32m   1045\u001b[0m \u001b[1;33m\u001b[0m\u001b[0m\n",
      "\u001b[1;32m~\\anaconda3\\lib\\site-packages\\joblib\\parallel.py\u001b[0m in \u001b[0;36mdispatch_one_batch\u001b[1;34m(self, iterator)\u001b[0m\n\u001b[0;32m    859\u001b[0m                 \u001b[1;32mreturn\u001b[0m \u001b[1;32mFalse\u001b[0m\u001b[1;33m\u001b[0m\u001b[1;33m\u001b[0m\u001b[0m\n\u001b[0;32m    860\u001b[0m             \u001b[1;32melse\u001b[0m\u001b[1;33m:\u001b[0m\u001b[1;33m\u001b[0m\u001b[1;33m\u001b[0m\u001b[0m\n\u001b[1;32m--> 861\u001b[1;33m                 \u001b[0mself\u001b[0m\u001b[1;33m.\u001b[0m\u001b[0m_dispatch\u001b[0m\u001b[1;33m(\u001b[0m\u001b[0mtasks\u001b[0m\u001b[1;33m)\u001b[0m\u001b[1;33m\u001b[0m\u001b[1;33m\u001b[0m\u001b[0m\n\u001b[0m\u001b[0;32m    862\u001b[0m                 \u001b[1;32mreturn\u001b[0m \u001b[1;32mTrue\u001b[0m\u001b[1;33m\u001b[0m\u001b[1;33m\u001b[0m\u001b[0m\n\u001b[0;32m    863\u001b[0m \u001b[1;33m\u001b[0m\u001b[0m\n",
      "\u001b[1;32m~\\anaconda3\\lib\\site-packages\\joblib\\parallel.py\u001b[0m in \u001b[0;36m_dispatch\u001b[1;34m(self, batch)\u001b[0m\n\u001b[0;32m    777\u001b[0m         \u001b[1;32mwith\u001b[0m \u001b[0mself\u001b[0m\u001b[1;33m.\u001b[0m\u001b[0m_lock\u001b[0m\u001b[1;33m:\u001b[0m\u001b[1;33m\u001b[0m\u001b[1;33m\u001b[0m\u001b[0m\n\u001b[0;32m    778\u001b[0m             \u001b[0mjob_idx\u001b[0m \u001b[1;33m=\u001b[0m \u001b[0mlen\u001b[0m\u001b[1;33m(\u001b[0m\u001b[0mself\u001b[0m\u001b[1;33m.\u001b[0m\u001b[0m_jobs\u001b[0m\u001b[1;33m)\u001b[0m\u001b[1;33m\u001b[0m\u001b[1;33m\u001b[0m\u001b[0m\n\u001b[1;32m--> 779\u001b[1;33m             \u001b[0mjob\u001b[0m \u001b[1;33m=\u001b[0m \u001b[0mself\u001b[0m\u001b[1;33m.\u001b[0m\u001b[0m_backend\u001b[0m\u001b[1;33m.\u001b[0m\u001b[0mapply_async\u001b[0m\u001b[1;33m(\u001b[0m\u001b[0mbatch\u001b[0m\u001b[1;33m,\u001b[0m \u001b[0mcallback\u001b[0m\u001b[1;33m=\u001b[0m\u001b[0mcb\u001b[0m\u001b[1;33m)\u001b[0m\u001b[1;33m\u001b[0m\u001b[1;33m\u001b[0m\u001b[0m\n\u001b[0m\u001b[0;32m    780\u001b[0m             \u001b[1;31m# A job can complete so quickly than its callback is\u001b[0m\u001b[1;33m\u001b[0m\u001b[1;33m\u001b[0m\u001b[0m\n\u001b[0;32m    781\u001b[0m             \u001b[1;31m# called before we get here, causing self._jobs to\u001b[0m\u001b[1;33m\u001b[0m\u001b[1;33m\u001b[0m\u001b[0m\n",
      "\u001b[1;32m~\\anaconda3\\lib\\site-packages\\joblib\\_parallel_backends.py\u001b[0m in \u001b[0;36mapply_async\u001b[1;34m(self, func, callback)\u001b[0m\n\u001b[0;32m    206\u001b[0m     \u001b[1;32mdef\u001b[0m \u001b[0mapply_async\u001b[0m\u001b[1;33m(\u001b[0m\u001b[0mself\u001b[0m\u001b[1;33m,\u001b[0m \u001b[0mfunc\u001b[0m\u001b[1;33m,\u001b[0m \u001b[0mcallback\u001b[0m\u001b[1;33m=\u001b[0m\u001b[1;32mNone\u001b[0m\u001b[1;33m)\u001b[0m\u001b[1;33m:\u001b[0m\u001b[1;33m\u001b[0m\u001b[1;33m\u001b[0m\u001b[0m\n\u001b[0;32m    207\u001b[0m         \u001b[1;34m\"\"\"Schedule a func to be run\"\"\"\u001b[0m\u001b[1;33m\u001b[0m\u001b[1;33m\u001b[0m\u001b[0m\n\u001b[1;32m--> 208\u001b[1;33m         \u001b[0mresult\u001b[0m \u001b[1;33m=\u001b[0m \u001b[0mImmediateResult\u001b[0m\u001b[1;33m(\u001b[0m\u001b[0mfunc\u001b[0m\u001b[1;33m)\u001b[0m\u001b[1;33m\u001b[0m\u001b[1;33m\u001b[0m\u001b[0m\n\u001b[0m\u001b[0;32m    209\u001b[0m         \u001b[1;32mif\u001b[0m \u001b[0mcallback\u001b[0m\u001b[1;33m:\u001b[0m\u001b[1;33m\u001b[0m\u001b[1;33m\u001b[0m\u001b[0m\n\u001b[0;32m    210\u001b[0m             \u001b[0mcallback\u001b[0m\u001b[1;33m(\u001b[0m\u001b[0mresult\u001b[0m\u001b[1;33m)\u001b[0m\u001b[1;33m\u001b[0m\u001b[1;33m\u001b[0m\u001b[0m\n",
      "\u001b[1;32m~\\anaconda3\\lib\\site-packages\\joblib\\_parallel_backends.py\u001b[0m in \u001b[0;36m__init__\u001b[1;34m(self, batch)\u001b[0m\n\u001b[0;32m    570\u001b[0m         \u001b[1;31m# Don't delay the application, to avoid keeping the input\u001b[0m\u001b[1;33m\u001b[0m\u001b[1;33m\u001b[0m\u001b[0m\n\u001b[0;32m    571\u001b[0m         \u001b[1;31m# arguments in memory\u001b[0m\u001b[1;33m\u001b[0m\u001b[1;33m\u001b[0m\u001b[0m\n\u001b[1;32m--> 572\u001b[1;33m         \u001b[0mself\u001b[0m\u001b[1;33m.\u001b[0m\u001b[0mresults\u001b[0m \u001b[1;33m=\u001b[0m \u001b[0mbatch\u001b[0m\u001b[1;33m(\u001b[0m\u001b[1;33m)\u001b[0m\u001b[1;33m\u001b[0m\u001b[1;33m\u001b[0m\u001b[0m\n\u001b[0m\u001b[0;32m    573\u001b[0m \u001b[1;33m\u001b[0m\u001b[0m\n\u001b[0;32m    574\u001b[0m     \u001b[1;32mdef\u001b[0m \u001b[0mget\u001b[0m\u001b[1;33m(\u001b[0m\u001b[0mself\u001b[0m\u001b[1;33m)\u001b[0m\u001b[1;33m:\u001b[0m\u001b[1;33m\u001b[0m\u001b[1;33m\u001b[0m\u001b[0m\n",
      "\u001b[1;32m~\\anaconda3\\lib\\site-packages\\joblib\\parallel.py\u001b[0m in \u001b[0;36m__call__\u001b[1;34m(self)\u001b[0m\n\u001b[0;32m    260\u001b[0m         \u001b[1;31m# change the default number of processes to -1\u001b[0m\u001b[1;33m\u001b[0m\u001b[1;33m\u001b[0m\u001b[0m\n\u001b[0;32m    261\u001b[0m         \u001b[1;32mwith\u001b[0m \u001b[0mparallel_backend\u001b[0m\u001b[1;33m(\u001b[0m\u001b[0mself\u001b[0m\u001b[1;33m.\u001b[0m\u001b[0m_backend\u001b[0m\u001b[1;33m,\u001b[0m \u001b[0mn_jobs\u001b[0m\u001b[1;33m=\u001b[0m\u001b[0mself\u001b[0m\u001b[1;33m.\u001b[0m\u001b[0m_n_jobs\u001b[0m\u001b[1;33m)\u001b[0m\u001b[1;33m:\u001b[0m\u001b[1;33m\u001b[0m\u001b[1;33m\u001b[0m\u001b[0m\n\u001b[1;32m--> 262\u001b[1;33m             return [func(*args, **kwargs)\n\u001b[0m\u001b[0;32m    263\u001b[0m                     for func, args, kwargs in self.items]\n\u001b[0;32m    264\u001b[0m \u001b[1;33m\u001b[0m\u001b[0m\n",
      "\u001b[1;32m~\\anaconda3\\lib\\site-packages\\joblib\\parallel.py\u001b[0m in \u001b[0;36m<listcomp>\u001b[1;34m(.0)\u001b[0m\n\u001b[0;32m    260\u001b[0m         \u001b[1;31m# change the default number of processes to -1\u001b[0m\u001b[1;33m\u001b[0m\u001b[1;33m\u001b[0m\u001b[0m\n\u001b[0;32m    261\u001b[0m         \u001b[1;32mwith\u001b[0m \u001b[0mparallel_backend\u001b[0m\u001b[1;33m(\u001b[0m\u001b[0mself\u001b[0m\u001b[1;33m.\u001b[0m\u001b[0m_backend\u001b[0m\u001b[1;33m,\u001b[0m \u001b[0mn_jobs\u001b[0m\u001b[1;33m=\u001b[0m\u001b[0mself\u001b[0m\u001b[1;33m.\u001b[0m\u001b[0m_n_jobs\u001b[0m\u001b[1;33m)\u001b[0m\u001b[1;33m:\u001b[0m\u001b[1;33m\u001b[0m\u001b[1;33m\u001b[0m\u001b[0m\n\u001b[1;32m--> 262\u001b[1;33m             return [func(*args, **kwargs)\n\u001b[0m\u001b[0;32m    263\u001b[0m                     for func, args, kwargs in self.items]\n\u001b[0;32m    264\u001b[0m \u001b[1;33m\u001b[0m\u001b[0m\n",
      "\u001b[1;32m~\\anaconda3\\lib\\site-packages\\sklearn\\utils\\fixes.py\u001b[0m in \u001b[0;36m__call__\u001b[1;34m(self, *args, **kwargs)\u001b[0m\n\u001b[0;32m    214\u001b[0m     \u001b[1;32mdef\u001b[0m \u001b[0m__call__\u001b[0m\u001b[1;33m(\u001b[0m\u001b[0mself\u001b[0m\u001b[1;33m,\u001b[0m \u001b[1;33m*\u001b[0m\u001b[0margs\u001b[0m\u001b[1;33m,\u001b[0m \u001b[1;33m**\u001b[0m\u001b[0mkwargs\u001b[0m\u001b[1;33m)\u001b[0m\u001b[1;33m:\u001b[0m\u001b[1;33m\u001b[0m\u001b[1;33m\u001b[0m\u001b[0m\n\u001b[0;32m    215\u001b[0m         \u001b[1;32mwith\u001b[0m \u001b[0mconfig_context\u001b[0m\u001b[1;33m(\u001b[0m\u001b[1;33m**\u001b[0m\u001b[0mself\u001b[0m\u001b[1;33m.\u001b[0m\u001b[0mconfig\u001b[0m\u001b[1;33m)\u001b[0m\u001b[1;33m:\u001b[0m\u001b[1;33m\u001b[0m\u001b[1;33m\u001b[0m\u001b[0m\n\u001b[1;32m--> 216\u001b[1;33m             \u001b[1;32mreturn\u001b[0m \u001b[0mself\u001b[0m\u001b[1;33m.\u001b[0m\u001b[0mfunction\u001b[0m\u001b[1;33m(\u001b[0m\u001b[1;33m*\u001b[0m\u001b[0margs\u001b[0m\u001b[1;33m,\u001b[0m \u001b[1;33m**\u001b[0m\u001b[0mkwargs\u001b[0m\u001b[1;33m)\u001b[0m\u001b[1;33m\u001b[0m\u001b[1;33m\u001b[0m\u001b[0m\n\u001b[0m\u001b[0;32m    217\u001b[0m \u001b[1;33m\u001b[0m\u001b[0m\n\u001b[0;32m    218\u001b[0m \u001b[1;33m\u001b[0m\u001b[0m\n",
      "\u001b[1;32m~\\anaconda3\\lib\\site-packages\\sklearn\\model_selection\\_validation.py\u001b[0m in \u001b[0;36m_fit_and_score\u001b[1;34m(estimator, X, y, scorer, train, test, verbose, parameters, fit_params, return_train_score, return_parameters, return_n_test_samples, return_times, return_estimator, split_progress, candidate_progress, error_score)\u001b[0m\n\u001b[0;32m    678\u001b[0m             \u001b[0mestimator\u001b[0m\u001b[1;33m.\u001b[0m\u001b[0mfit\u001b[0m\u001b[1;33m(\u001b[0m\u001b[0mX_train\u001b[0m\u001b[1;33m,\u001b[0m \u001b[1;33m**\u001b[0m\u001b[0mfit_params\u001b[0m\u001b[1;33m)\u001b[0m\u001b[1;33m\u001b[0m\u001b[1;33m\u001b[0m\u001b[0m\n\u001b[0;32m    679\u001b[0m         \u001b[1;32melse\u001b[0m\u001b[1;33m:\u001b[0m\u001b[1;33m\u001b[0m\u001b[1;33m\u001b[0m\u001b[0m\n\u001b[1;32m--> 680\u001b[1;33m             \u001b[0mestimator\u001b[0m\u001b[1;33m.\u001b[0m\u001b[0mfit\u001b[0m\u001b[1;33m(\u001b[0m\u001b[0mX_train\u001b[0m\u001b[1;33m,\u001b[0m \u001b[0my_train\u001b[0m\u001b[1;33m,\u001b[0m \u001b[1;33m**\u001b[0m\u001b[0mfit_params\u001b[0m\u001b[1;33m)\u001b[0m\u001b[1;33m\u001b[0m\u001b[1;33m\u001b[0m\u001b[0m\n\u001b[0m\u001b[0;32m    681\u001b[0m \u001b[1;33m\u001b[0m\u001b[0m\n\u001b[0;32m    682\u001b[0m     \u001b[1;32mexcept\u001b[0m \u001b[0mException\u001b[0m\u001b[1;33m:\u001b[0m\u001b[1;33m\u001b[0m\u001b[1;33m\u001b[0m\u001b[0m\n",
      "\u001b[1;32m~\\anaconda3\\lib\\site-packages\\sklearn\\pipeline.py\u001b[0m in \u001b[0;36mfit\u001b[1;34m(self, X, y, **fit_params)\u001b[0m\n\u001b[0;32m    388\u001b[0m         \"\"\"\n\u001b[0;32m    389\u001b[0m         \u001b[0mfit_params_steps\u001b[0m \u001b[1;33m=\u001b[0m \u001b[0mself\u001b[0m\u001b[1;33m.\u001b[0m\u001b[0m_check_fit_params\u001b[0m\u001b[1;33m(\u001b[0m\u001b[1;33m**\u001b[0m\u001b[0mfit_params\u001b[0m\u001b[1;33m)\u001b[0m\u001b[1;33m\u001b[0m\u001b[1;33m\u001b[0m\u001b[0m\n\u001b[1;32m--> 390\u001b[1;33m         \u001b[0mXt\u001b[0m \u001b[1;33m=\u001b[0m \u001b[0mself\u001b[0m\u001b[1;33m.\u001b[0m\u001b[0m_fit\u001b[0m\u001b[1;33m(\u001b[0m\u001b[0mX\u001b[0m\u001b[1;33m,\u001b[0m \u001b[0my\u001b[0m\u001b[1;33m,\u001b[0m \u001b[1;33m**\u001b[0m\u001b[0mfit_params_steps\u001b[0m\u001b[1;33m)\u001b[0m\u001b[1;33m\u001b[0m\u001b[1;33m\u001b[0m\u001b[0m\n\u001b[0m\u001b[0;32m    391\u001b[0m         \u001b[1;32mwith\u001b[0m \u001b[0m_print_elapsed_time\u001b[0m\u001b[1;33m(\u001b[0m\u001b[1;34m\"Pipeline\"\u001b[0m\u001b[1;33m,\u001b[0m \u001b[0mself\u001b[0m\u001b[1;33m.\u001b[0m\u001b[0m_log_message\u001b[0m\u001b[1;33m(\u001b[0m\u001b[0mlen\u001b[0m\u001b[1;33m(\u001b[0m\u001b[0mself\u001b[0m\u001b[1;33m.\u001b[0m\u001b[0msteps\u001b[0m\u001b[1;33m)\u001b[0m \u001b[1;33m-\u001b[0m \u001b[1;36m1\u001b[0m\u001b[1;33m)\u001b[0m\u001b[1;33m)\u001b[0m\u001b[1;33m:\u001b[0m\u001b[1;33m\u001b[0m\u001b[1;33m\u001b[0m\u001b[0m\n\u001b[0;32m    392\u001b[0m             \u001b[1;32mif\u001b[0m \u001b[0mself\u001b[0m\u001b[1;33m.\u001b[0m\u001b[0m_final_estimator\u001b[0m \u001b[1;33m!=\u001b[0m \u001b[1;34m\"passthrough\"\u001b[0m\u001b[1;33m:\u001b[0m\u001b[1;33m\u001b[0m\u001b[1;33m\u001b[0m\u001b[0m\n",
      "\u001b[1;32m~\\anaconda3\\lib\\site-packages\\sklearn\\pipeline.py\u001b[0m in \u001b[0;36m_fit\u001b[1;34m(self, X, y, **fit_params_steps)\u001b[0m\n\u001b[0;32m    314\u001b[0m         \u001b[1;31m# shallow copy of steps - this should really be steps_\u001b[0m\u001b[1;33m\u001b[0m\u001b[1;33m\u001b[0m\u001b[0m\n\u001b[0;32m    315\u001b[0m         \u001b[0mself\u001b[0m\u001b[1;33m.\u001b[0m\u001b[0msteps\u001b[0m \u001b[1;33m=\u001b[0m \u001b[0mlist\u001b[0m\u001b[1;33m(\u001b[0m\u001b[0mself\u001b[0m\u001b[1;33m.\u001b[0m\u001b[0msteps\u001b[0m\u001b[1;33m)\u001b[0m\u001b[1;33m\u001b[0m\u001b[1;33m\u001b[0m\u001b[0m\n\u001b[1;32m--> 316\u001b[1;33m         \u001b[0mself\u001b[0m\u001b[1;33m.\u001b[0m\u001b[0m_validate_steps\u001b[0m\u001b[1;33m(\u001b[0m\u001b[1;33m)\u001b[0m\u001b[1;33m\u001b[0m\u001b[1;33m\u001b[0m\u001b[0m\n\u001b[0m\u001b[0;32m    317\u001b[0m         \u001b[1;31m# Setup the memory\u001b[0m\u001b[1;33m\u001b[0m\u001b[1;33m\u001b[0m\u001b[0m\n\u001b[0;32m    318\u001b[0m         \u001b[0mmemory\u001b[0m \u001b[1;33m=\u001b[0m \u001b[0mcheck_memory\u001b[0m\u001b[1;33m(\u001b[0m\u001b[0mself\u001b[0m\u001b[1;33m.\u001b[0m\u001b[0mmemory\u001b[0m\u001b[1;33m)\u001b[0m\u001b[1;33m\u001b[0m\u001b[1;33m\u001b[0m\u001b[0m\n",
      "\u001b[1;32m~\\anaconda3\\lib\\site-packages\\sklearn\\pipeline.py\u001b[0m in \u001b[0;36m_validate_steps\u001b[1;34m(self)\u001b[0m\n\u001b[0;32m    193\u001b[0m \u001b[1;33m\u001b[0m\u001b[0m\n\u001b[0;32m    194\u001b[0m         \u001b[1;31m# validate names\u001b[0m\u001b[1;33m\u001b[0m\u001b[1;33m\u001b[0m\u001b[0m\n\u001b[1;32m--> 195\u001b[1;33m         \u001b[0mself\u001b[0m\u001b[1;33m.\u001b[0m\u001b[0m_validate_names\u001b[0m\u001b[1;33m(\u001b[0m\u001b[0mnames\u001b[0m\u001b[1;33m)\u001b[0m\u001b[1;33m\u001b[0m\u001b[1;33m\u001b[0m\u001b[0m\n\u001b[0m\u001b[0;32m    196\u001b[0m \u001b[1;33m\u001b[0m\u001b[0m\n\u001b[0;32m    197\u001b[0m         \u001b[1;31m# validate estimators\u001b[0m\u001b[1;33m\u001b[0m\u001b[1;33m\u001b[0m\u001b[0m\n",
      "\u001b[1;32m~\\anaconda3\\lib\\site-packages\\sklearn\\utils\\metaestimators.py\u001b[0m in \u001b[0;36m_validate_names\u001b[1;34m(self, names)\u001b[0m\n\u001b[0;32m     67\u001b[0m         \u001b[1;32mif\u001b[0m \u001b[0mlen\u001b[0m\u001b[1;33m(\u001b[0m\u001b[0mset\u001b[0m\u001b[1;33m(\u001b[0m\u001b[0mnames\u001b[0m\u001b[1;33m)\u001b[0m\u001b[1;33m)\u001b[0m \u001b[1;33m!=\u001b[0m \u001b[0mlen\u001b[0m\u001b[1;33m(\u001b[0m\u001b[0mnames\u001b[0m\u001b[1;33m)\u001b[0m\u001b[1;33m:\u001b[0m\u001b[1;33m\u001b[0m\u001b[1;33m\u001b[0m\u001b[0m\n\u001b[0;32m     68\u001b[0m             \u001b[1;32mraise\u001b[0m \u001b[0mValueError\u001b[0m\u001b[1;33m(\u001b[0m\u001b[1;34m\"Names provided are not unique: {0!r}\"\u001b[0m\u001b[1;33m.\u001b[0m\u001b[0mformat\u001b[0m\u001b[1;33m(\u001b[0m\u001b[0mlist\u001b[0m\u001b[1;33m(\u001b[0m\u001b[0mnames\u001b[0m\u001b[1;33m)\u001b[0m\u001b[1;33m)\u001b[0m\u001b[1;33m)\u001b[0m\u001b[1;33m\u001b[0m\u001b[1;33m\u001b[0m\u001b[0m\n\u001b[1;32m---> 69\u001b[1;33m         \u001b[0minvalid_names\u001b[0m \u001b[1;33m=\u001b[0m \u001b[0mset\u001b[0m\u001b[1;33m(\u001b[0m\u001b[0mnames\u001b[0m\u001b[1;33m)\u001b[0m\u001b[1;33m.\u001b[0m\u001b[0mintersection\u001b[0m\u001b[1;33m(\u001b[0m\u001b[0mself\u001b[0m\u001b[1;33m.\u001b[0m\u001b[0mget_params\u001b[0m\u001b[1;33m(\u001b[0m\u001b[0mdeep\u001b[0m\u001b[1;33m=\u001b[0m\u001b[1;32mFalse\u001b[0m\u001b[1;33m)\u001b[0m\u001b[1;33m)\u001b[0m\u001b[1;33m\u001b[0m\u001b[1;33m\u001b[0m\u001b[0m\n\u001b[0m\u001b[0;32m     70\u001b[0m         \u001b[1;32mif\u001b[0m \u001b[0minvalid_names\u001b[0m\u001b[1;33m:\u001b[0m\u001b[1;33m\u001b[0m\u001b[1;33m\u001b[0m\u001b[0m\n\u001b[0;32m     71\u001b[0m             raise ValueError(\n",
      "\u001b[1;32m~\\anaconda3\\lib\\site-packages\\sklearn\\pipeline.py\u001b[0m in \u001b[0;36mget_params\u001b[1;34m(self, deep)\u001b[0m\n\u001b[0;32m    165\u001b[0m             \u001b[0mParameter\u001b[0m \u001b[0mnames\u001b[0m \u001b[0mmapped\u001b[0m \u001b[0mto\u001b[0m \u001b[0mtheir\u001b[0m \u001b[0mvalues\u001b[0m\u001b[1;33m.\u001b[0m\u001b[1;33m\u001b[0m\u001b[1;33m\u001b[0m\u001b[0m\n\u001b[0;32m    166\u001b[0m         \"\"\"\n\u001b[1;32m--> 167\u001b[1;33m         \u001b[1;32mreturn\u001b[0m \u001b[0mself\u001b[0m\u001b[1;33m.\u001b[0m\u001b[0m_get_params\u001b[0m\u001b[1;33m(\u001b[0m\u001b[1;34m\"steps\"\u001b[0m\u001b[1;33m,\u001b[0m \u001b[0mdeep\u001b[0m\u001b[1;33m=\u001b[0m\u001b[0mdeep\u001b[0m\u001b[1;33m)\u001b[0m\u001b[1;33m\u001b[0m\u001b[1;33m\u001b[0m\u001b[0m\n\u001b[0m\u001b[0;32m    168\u001b[0m \u001b[1;33m\u001b[0m\u001b[0m\n\u001b[0;32m    169\u001b[0m     \u001b[1;32mdef\u001b[0m \u001b[0mset_params\u001b[0m\u001b[1;33m(\u001b[0m\u001b[0mself\u001b[0m\u001b[1;33m,\u001b[0m \u001b[1;33m**\u001b[0m\u001b[0mkwargs\u001b[0m\u001b[1;33m)\u001b[0m\u001b[1;33m:\u001b[0m\u001b[1;33m\u001b[0m\u001b[1;33m\u001b[0m\u001b[0m\n",
      "\u001b[1;32m~\\anaconda3\\lib\\site-packages\\sklearn\\utils\\metaestimators.py\u001b[0m in \u001b[0;36m_get_params\u001b[1;34m(self, attr, deep)\u001b[0m\n\u001b[0;32m     27\u001b[0m \u001b[1;33m\u001b[0m\u001b[0m\n\u001b[0;32m     28\u001b[0m     \u001b[1;32mdef\u001b[0m \u001b[0m_get_params\u001b[0m\u001b[1;33m(\u001b[0m\u001b[0mself\u001b[0m\u001b[1;33m,\u001b[0m \u001b[0mattr\u001b[0m\u001b[1;33m,\u001b[0m \u001b[0mdeep\u001b[0m\u001b[1;33m=\u001b[0m\u001b[1;32mTrue\u001b[0m\u001b[1;33m)\u001b[0m\u001b[1;33m:\u001b[0m\u001b[1;33m\u001b[0m\u001b[1;33m\u001b[0m\u001b[0m\n\u001b[1;32m---> 29\u001b[1;33m         \u001b[0mout\u001b[0m \u001b[1;33m=\u001b[0m \u001b[0msuper\u001b[0m\u001b[1;33m(\u001b[0m\u001b[1;33m)\u001b[0m\u001b[1;33m.\u001b[0m\u001b[0mget_params\u001b[0m\u001b[1;33m(\u001b[0m\u001b[0mdeep\u001b[0m\u001b[1;33m=\u001b[0m\u001b[0mdeep\u001b[0m\u001b[1;33m)\u001b[0m\u001b[1;33m\u001b[0m\u001b[1;33m\u001b[0m\u001b[0m\n\u001b[0m\u001b[0;32m     30\u001b[0m         \u001b[1;32mif\u001b[0m \u001b[1;32mnot\u001b[0m \u001b[0mdeep\u001b[0m\u001b[1;33m:\u001b[0m\u001b[1;33m\u001b[0m\u001b[1;33m\u001b[0m\u001b[0m\n\u001b[0;32m     31\u001b[0m             \u001b[1;32mreturn\u001b[0m \u001b[0mout\u001b[0m\u001b[1;33m\u001b[0m\u001b[1;33m\u001b[0m\u001b[0m\n",
      "\u001b[1;32m~\\anaconda3\\lib\\site-packages\\sklearn\\base.py\u001b[0m in \u001b[0;36mget_params\u001b[1;34m(self, deep)\u001b[0m\n\u001b[0;32m    207\u001b[0m         \"\"\"\n\u001b[0;32m    208\u001b[0m         \u001b[0mout\u001b[0m \u001b[1;33m=\u001b[0m \u001b[0mdict\u001b[0m\u001b[1;33m(\u001b[0m\u001b[1;33m)\u001b[0m\u001b[1;33m\u001b[0m\u001b[1;33m\u001b[0m\u001b[0m\n\u001b[1;32m--> 209\u001b[1;33m         \u001b[1;32mfor\u001b[0m \u001b[0mkey\u001b[0m \u001b[1;32min\u001b[0m \u001b[0mself\u001b[0m\u001b[1;33m.\u001b[0m\u001b[0m_get_param_names\u001b[0m\u001b[1;33m(\u001b[0m\u001b[1;33m)\u001b[0m\u001b[1;33m:\u001b[0m\u001b[1;33m\u001b[0m\u001b[1;33m\u001b[0m\u001b[0m\n\u001b[0m\u001b[0;32m    210\u001b[0m             \u001b[0mvalue\u001b[0m \u001b[1;33m=\u001b[0m \u001b[0mgetattr\u001b[0m\u001b[1;33m(\u001b[0m\u001b[0mself\u001b[0m\u001b[1;33m,\u001b[0m \u001b[0mkey\u001b[0m\u001b[1;33m)\u001b[0m\u001b[1;33m\u001b[0m\u001b[1;33m\u001b[0m\u001b[0m\n\u001b[0;32m    211\u001b[0m             \u001b[1;32mif\u001b[0m \u001b[0mdeep\u001b[0m \u001b[1;32mand\u001b[0m \u001b[0mhasattr\u001b[0m\u001b[1;33m(\u001b[0m\u001b[0mvalue\u001b[0m\u001b[1;33m,\u001b[0m \u001b[1;34m\"get_params\"\u001b[0m\u001b[1;33m)\u001b[0m\u001b[1;33m:\u001b[0m\u001b[1;33m\u001b[0m\u001b[1;33m\u001b[0m\u001b[0m\n",
      "\u001b[1;32m~\\anaconda3\\lib\\site-packages\\sklearn\\base.py\u001b[0m in \u001b[0;36m_get_param_names\u001b[1;34m(cls)\u001b[0m\n\u001b[0;32m    172\u001b[0m         \u001b[1;31m# introspect the constructor arguments to find the model parameters\u001b[0m\u001b[1;33m\u001b[0m\u001b[1;33m\u001b[0m\u001b[0m\n\u001b[0;32m    173\u001b[0m         \u001b[1;31m# to represent\u001b[0m\u001b[1;33m\u001b[0m\u001b[1;33m\u001b[0m\u001b[0m\n\u001b[1;32m--> 174\u001b[1;33m         \u001b[0minit_signature\u001b[0m \u001b[1;33m=\u001b[0m \u001b[0minspect\u001b[0m\u001b[1;33m.\u001b[0m\u001b[0msignature\u001b[0m\u001b[1;33m(\u001b[0m\u001b[0minit\u001b[0m\u001b[1;33m)\u001b[0m\u001b[1;33m\u001b[0m\u001b[1;33m\u001b[0m\u001b[0m\n\u001b[0m\u001b[0;32m    175\u001b[0m         \u001b[1;31m# Consider the constructor parameters excluding 'self'\u001b[0m\u001b[1;33m\u001b[0m\u001b[1;33m\u001b[0m\u001b[0m\n\u001b[0;32m    176\u001b[0m         parameters = [\n",
      "\u001b[1;32m~\\anaconda3\\lib\\inspect.py\u001b[0m in \u001b[0;36msignature\u001b[1;34m(obj, follow_wrapped)\u001b[0m\n\u001b[0;32m   3111\u001b[0m \u001b[1;32mdef\u001b[0m \u001b[0msignature\u001b[0m\u001b[1;33m(\u001b[0m\u001b[0mobj\u001b[0m\u001b[1;33m,\u001b[0m \u001b[1;33m*\u001b[0m\u001b[1;33m,\u001b[0m \u001b[0mfollow_wrapped\u001b[0m\u001b[1;33m=\u001b[0m\u001b[1;32mTrue\u001b[0m\u001b[1;33m)\u001b[0m\u001b[1;33m:\u001b[0m\u001b[1;33m\u001b[0m\u001b[1;33m\u001b[0m\u001b[0m\n\u001b[0;32m   3112\u001b[0m     \u001b[1;34m\"\"\"Get a signature object for the passed callable.\"\"\"\u001b[0m\u001b[1;33m\u001b[0m\u001b[1;33m\u001b[0m\u001b[0m\n\u001b[1;32m-> 3113\u001b[1;33m     \u001b[1;32mreturn\u001b[0m \u001b[0mSignature\u001b[0m\u001b[1;33m.\u001b[0m\u001b[0mfrom_callable\u001b[0m\u001b[1;33m(\u001b[0m\u001b[0mobj\u001b[0m\u001b[1;33m,\u001b[0m \u001b[0mfollow_wrapped\u001b[0m\u001b[1;33m=\u001b[0m\u001b[0mfollow_wrapped\u001b[0m\u001b[1;33m)\u001b[0m\u001b[1;33m\u001b[0m\u001b[1;33m\u001b[0m\u001b[0m\n\u001b[0m\u001b[0;32m   3114\u001b[0m \u001b[1;33m\u001b[0m\u001b[0m\n\u001b[0;32m   3115\u001b[0m \u001b[1;33m\u001b[0m\u001b[0m\n",
      "\u001b[1;32m~\\anaconda3\\lib\\inspect.py\u001b[0m in \u001b[0;36mfrom_callable\u001b[1;34m(cls, obj, follow_wrapped)\u001b[0m\n\u001b[0;32m   2860\u001b[0m     \u001b[1;32mdef\u001b[0m \u001b[0mfrom_callable\u001b[0m\u001b[1;33m(\u001b[0m\u001b[0mcls\u001b[0m\u001b[1;33m,\u001b[0m \u001b[0mobj\u001b[0m\u001b[1;33m,\u001b[0m \u001b[1;33m*\u001b[0m\u001b[1;33m,\u001b[0m \u001b[0mfollow_wrapped\u001b[0m\u001b[1;33m=\u001b[0m\u001b[1;32mTrue\u001b[0m\u001b[1;33m)\u001b[0m\u001b[1;33m:\u001b[0m\u001b[1;33m\u001b[0m\u001b[1;33m\u001b[0m\u001b[0m\n\u001b[0;32m   2861\u001b[0m         \u001b[1;34m\"\"\"Constructs Signature for the given callable object.\"\"\"\u001b[0m\u001b[1;33m\u001b[0m\u001b[1;33m\u001b[0m\u001b[0m\n\u001b[1;32m-> 2862\u001b[1;33m         return _signature_from_callable(obj, sigcls=cls,\n\u001b[0m\u001b[0;32m   2863\u001b[0m                                         follow_wrapper_chains=follow_wrapped)\n\u001b[0;32m   2864\u001b[0m \u001b[1;33m\u001b[0m\u001b[0m\n",
      "\u001b[1;32m~\\anaconda3\\lib\\inspect.py\u001b[0m in \u001b[0;36m_signature_from_callable\u001b[1;34m(obj, follow_wrapper_chains, skip_bound_arg, sigcls)\u001b[0m\n\u001b[0;32m   2323\u001b[0m         \u001b[1;31m# If it's a pure Python function, or an object that is duck type\u001b[0m\u001b[1;33m\u001b[0m\u001b[1;33m\u001b[0m\u001b[0m\n\u001b[0;32m   2324\u001b[0m         \u001b[1;31m# of a Python function (Cython functions, for instance), then:\u001b[0m\u001b[1;33m\u001b[0m\u001b[1;33m\u001b[0m\u001b[0m\n\u001b[1;32m-> 2325\u001b[1;33m         return _signature_from_function(sigcls, obj,\n\u001b[0m\u001b[0;32m   2326\u001b[0m                                         skip_bound_arg=skip_bound_arg)\n\u001b[0;32m   2327\u001b[0m \u001b[1;33m\u001b[0m\u001b[0m\n",
      "\u001b[1;32m~\\anaconda3\\lib\\inspect.py\u001b[0m in \u001b[0;36m_signature_from_function\u001b[1;34m(cls, func, skip_bound_arg)\u001b[0m\n\u001b[0;32m   2239\u001b[0m     \u001b[1;31m# Is 'func' is a pure Python function - don't validate the\u001b[0m\u001b[1;33m\u001b[0m\u001b[1;33m\u001b[0m\u001b[0m\n\u001b[0;32m   2240\u001b[0m     \u001b[1;31m# parameters list (for correct order and defaults), it should be OK.\u001b[0m\u001b[1;33m\u001b[0m\u001b[1;33m\u001b[0m\u001b[0m\n\u001b[1;32m-> 2241\u001b[1;33m     return cls(parameters,\n\u001b[0m\u001b[0;32m   2242\u001b[0m                \u001b[0mreturn_annotation\u001b[0m\u001b[1;33m=\u001b[0m\u001b[0mannotations\u001b[0m\u001b[1;33m.\u001b[0m\u001b[0mget\u001b[0m\u001b[1;33m(\u001b[0m\u001b[1;34m'return'\u001b[0m\u001b[1;33m,\u001b[0m \u001b[0m_empty\u001b[0m\u001b[1;33m)\u001b[0m\u001b[1;33m,\u001b[0m\u001b[1;33m\u001b[0m\u001b[1;33m\u001b[0m\u001b[0m\n\u001b[0;32m   2243\u001b[0m                __validate_parameters__=is_duck_function)\n",
      "\u001b[1;32m~\\anaconda3\\lib\\inspect.py\u001b[0m in \u001b[0;36m__init__\u001b[1;34m(self, parameters, return_annotation, __validate_parameters__)\u001b[0m\n\u001b[0;32m   2828\u001b[0m                     \u001b[0mparams\u001b[0m\u001b[1;33m[\u001b[0m\u001b[0mname\u001b[0m\u001b[1;33m]\u001b[0m \u001b[1;33m=\u001b[0m \u001b[0mparam\u001b[0m\u001b[1;33m\u001b[0m\u001b[1;33m\u001b[0m\u001b[0m\n\u001b[0;32m   2829\u001b[0m             \u001b[1;32melse\u001b[0m\u001b[1;33m:\u001b[0m\u001b[1;33m\u001b[0m\u001b[1;33m\u001b[0m\u001b[0m\n\u001b[1;32m-> 2830\u001b[1;33m                 \u001b[0mparams\u001b[0m \u001b[1;33m=\u001b[0m \u001b[0mOrderedDict\u001b[0m\u001b[1;33m(\u001b[0m\u001b[1;33m(\u001b[0m\u001b[0mparam\u001b[0m\u001b[1;33m.\u001b[0m\u001b[0mname\u001b[0m\u001b[1;33m,\u001b[0m \u001b[0mparam\u001b[0m\u001b[1;33m)\u001b[0m \u001b[1;32mfor\u001b[0m \u001b[0mparam\u001b[0m \u001b[1;32min\u001b[0m \u001b[0mparameters\u001b[0m\u001b[1;33m)\u001b[0m\u001b[1;33m\u001b[0m\u001b[1;33m\u001b[0m\u001b[0m\n\u001b[0m\u001b[0;32m   2831\u001b[0m \u001b[1;33m\u001b[0m\u001b[0m\n\u001b[0;32m   2832\u001b[0m         \u001b[0mself\u001b[0m\u001b[1;33m.\u001b[0m\u001b[0m_parameters\u001b[0m \u001b[1;33m=\u001b[0m \u001b[0mtypes\u001b[0m\u001b[1;33m.\u001b[0m\u001b[0mMappingProxyType\u001b[0m\u001b[1;33m(\u001b[0m\u001b[0mparams\u001b[0m\u001b[1;33m)\u001b[0m\u001b[1;33m\u001b[0m\u001b[1;33m\u001b[0m\u001b[0m\n",
      "\u001b[1;32m~\\anaconda3\\lib\\inspect.py\u001b[0m in \u001b[0;36m<genexpr>\u001b[1;34m(.0)\u001b[0m\n\u001b[0;32m   2828\u001b[0m                     \u001b[0mparams\u001b[0m\u001b[1;33m[\u001b[0m\u001b[0mname\u001b[0m\u001b[1;33m]\u001b[0m \u001b[1;33m=\u001b[0m \u001b[0mparam\u001b[0m\u001b[1;33m\u001b[0m\u001b[1;33m\u001b[0m\u001b[0m\n\u001b[0;32m   2829\u001b[0m             \u001b[1;32melse\u001b[0m\u001b[1;33m:\u001b[0m\u001b[1;33m\u001b[0m\u001b[1;33m\u001b[0m\u001b[0m\n\u001b[1;32m-> 2830\u001b[1;33m                 \u001b[0mparams\u001b[0m \u001b[1;33m=\u001b[0m \u001b[0mOrderedDict\u001b[0m\u001b[1;33m(\u001b[0m\u001b[1;33m(\u001b[0m\u001b[0mparam\u001b[0m\u001b[1;33m.\u001b[0m\u001b[0mname\u001b[0m\u001b[1;33m,\u001b[0m \u001b[0mparam\u001b[0m\u001b[1;33m)\u001b[0m \u001b[1;32mfor\u001b[0m \u001b[0mparam\u001b[0m \u001b[1;32min\u001b[0m \u001b[0mparameters\u001b[0m\u001b[1;33m)\u001b[0m\u001b[1;33m\u001b[0m\u001b[1;33m\u001b[0m\u001b[0m\n\u001b[0m\u001b[0;32m   2831\u001b[0m \u001b[1;33m\u001b[0m\u001b[0m\n\u001b[0;32m   2832\u001b[0m         \u001b[0mself\u001b[0m\u001b[1;33m.\u001b[0m\u001b[0m_parameters\u001b[0m \u001b[1;33m=\u001b[0m \u001b[0mtypes\u001b[0m\u001b[1;33m.\u001b[0m\u001b[0mMappingProxyType\u001b[0m\u001b[1;33m(\u001b[0m\u001b[0mparams\u001b[0m\u001b[1;33m)\u001b[0m\u001b[1;33m\u001b[0m\u001b[1;33m\u001b[0m\u001b[0m\n",
      "\u001b[1;31mKeyboardInterrupt\u001b[0m: "
     ]
    }
   ],
   "source": [
    "## The below never ran fully, it is likely too man parameters\n",
    "\n",
    "param_grid_xgb = {\n",
    "    \"xgbclassifier__max_depth\": [3, 4, 5, 7],\n",
    "    \"xgbclassifier__learning_rate\": [0.1, 0.01, 0.05],\n",
    "    \"xgbclassifier__gamma\": [0, 0.25, 1],\n",
    "    \"xgbclassifier__reg_lambda\": [0, 1, 10],\n",
    "    \"xgbclassifier__scale_pos_weight\": [1, 3, 5],\n",
    "    \"xgbclassifier__subsample\": [0.8],\n",
    "    \"xgbclassifier__colsample_bytree\": [0.5]\n",
    "}\n",
    "\n",
    "clf = XGBClassifier()\n",
    "\n",
    "pipe = make_pipeline(count_vect, tfidf_transformer, clf)\n",
    "\n",
    "grid_xgb = GridSearchCV(estimator=pipe, param_grid=param_grid_xgb, cv=3, scoring='accuracy')\n",
    "\n",
    "grid_xgb.fit(X_train, y_train)\n",
    "\n",
    "print('Best score:', grid_xgb.best_score_)\n",
    "print('Best parameter:', grid_xgb.best_params_)"
   ]
  },
  {
   "cell_type": "code",
   "execution_count": null,
   "id": "f25bf40b",
   "metadata": {},
   "outputs": [],
   "source": []
  }
 ],
 "metadata": {
  "kernelspec": {
   "display_name": "Python 3 (ipykernel)",
   "language": "python",
   "name": "python3"
  },
  "language_info": {
   "codemirror_mode": {
    "name": "ipython",
    "version": 3
   },
   "file_extension": ".py",
   "mimetype": "text/x-python",
   "name": "python",
   "nbconvert_exporter": "python",
   "pygments_lexer": "ipython3",
   "version": "3.9.13"
  }
 },
 "nbformat": 4,
 "nbformat_minor": 5
}
